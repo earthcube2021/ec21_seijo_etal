{
 "cells": [
  {
   "cell_type": "markdown",
   "metadata": {},
   "source": [
    "Other notes: \n",
    "* python -m ipykernel install --user --name py38 --display-name \"Python (py38)\" to be able to use the python environment when running the notebook"
   ]
  },
  {
   "cell_type": "code",
   "execution_count": null,
   "metadata": {},
   "outputs": [],
   "source": [
    "import requests\n",
    "import numpy as np\n",
    "import pandas as pd\n",
    "from itertools import compress\n",
    "from datetime import datetime\n",
    "from datetime import timedelta  \n",
    "import matplotlib\n",
    "import matplotlib.pylab as plt\n",
    "from matplotlib import cm\n",
    "import matplotlib.dates as mdates\n",
    "import cartopy.feature as cft\n",
    "import cartopy.crs as ccrs\n",
    "from svgpath2mpl import parse_path\n",
    "%matplotlib inline"
   ]
  },
  {
   "cell_type": "markdown",
   "metadata": {},
   "source": [
    "**Functions are defined in the following. NOTE: we should check we only include functions that are used later!**"
   ]
  },
  {
   "cell_type": "code",
   "execution_count": null,
   "metadata": {},
   "outputs": [],
   "source": [
    "# get a tropical cyclone by date and year\n",
    "def get_TCs_byNameYear(tc_name,tc_year):\n",
    "    url = 'https://argovis.colorado.edu/tc/findByNameYear?name='+tc_name+'&year='+str(tc_year) #2018-07-15\n",
    "    print(url)\n",
    "    resp = requests.get(url)\n",
    "    # Consider any status other than 2xx an error\n",
    "    if not resp.status_code // 100 == 2:\n",
    "        return \"Error: Unexpected response {}\".format(resp)\n",
    "    data = resp.json()\n",
    "    return data"
   ]
  },
  {
   "cell_type": "code",
   "execution_count": null,
   "metadata": {},
   "outputs": [],
   "source": [
    "# get tropical cyclones (or SH storms) by date\n",
    "def get_TCs_byDate(startDate,endDate):\n",
    "    url = 'https://argovis.colorado.edu/tc/findByDateRange?startDate='+startDate+'T00:00:00&endDate='+endDate+'T00:00:00' #2018-07-15\n",
    "    print(url)\n",
    "    resp = requests.get(url)\n",
    "    # Consider any status other than 2xx an error\n",
    "    if not resp.status_code // 100 == 2:\n",
    "        return \"Error: Unexpected response {}\".format(resp)\n",
    "    data = resp.json()\n",
    "    return data"
   ]
  },
  {
   "cell_type": "code",
   "execution_count": null,
   "metadata": {},
   "outputs": [],
   "source": [
    "# create a marker for tropical cyclones\n",
    "def get_hurricane_marker():\n",
    "    hurricane = parse_path(\"\"\"M 188.79857,492.55018 L 180.09663,484.17671 L 188.57725,474.97463 \n",
    "     C 212.44187,449.07984 230.37031,423.34927 246.04359,392.5 \n",
    "     C 254.14781,376.5487 265.0005,350.78866 265.0005,347.50373 \n",
    "     C 265.0005,346.53236 263.21255,347.40666 259.7505,350.07094 \n",
    "     C 251.67361,356.28665 233.85001,364.64767 222.5005,367.54485 \n",
    "     C 204.24051,372.20605 178.92084,371.97166 159.45635,366.96123 \n",
    "     C 147.77122,363.95331 130.93184,355.3283 122.0005,347.77659 \n",
    "     C 95.11018,325.04006 81.65749,291.36529 81.74139,247 \n",
    "     C 81.78993,221.33674 85.91479,197.1747 94.55247,171.95714 \n",
    "     C 111.06665,123.74428 136.98179,82.210848 180.29075,34.54693 \n",
    "     L 185.6999,28.59386 L 189.6002,31.718323 \n",
    "     C 191.74536,33.436777 195.9159,37.308373 198.86805,40.32187 \n",
    "     L 204.23561,45.800955 L 193.66355,57.483549 \n",
    "     C 168.69038,85.080007 151.53704,109.91644 136.8182,139.79028 \n",
    "     C 130.67851,152.2516 118.91503,180.17836 119.52809,180.83739 \n",
    "     C 119.70071,181.02295 122.91512,178.62979 126.67122,175.51926 \n",
    "     C 144.84799,160.46658 171.06913,152.9127 200.0005,154.39429 \n",
    "     C 227.96505,155.82638 249.78837,164.40176 267.15103,180.78081 \n",
    "     C 291.49094,203.74185 302.41509,234.21538 302.36063,279 \n",
    "     C 302.33536,299.77768 300.97355,312.12979 296.41891,332.89349 \n",
    "     C 286.70405,377.18157 262.85893,424.36347 228.55502,467.17452 \n",
    "     C 219.26505,478.76833 199.25099,501.02345 198.17004,500.96183 \n",
    "     C 197.80179,500.94084 193.58463,497.15559 188.79857,492.55018 \n",
    "     z M 212.92994,343.99452 C 242.28307,336.85605 266.31414,312.68729 \n",
    "     273.9846,282.59004 C 276.76052,271.6979 276.75301,253.72727 273.96762,242 \n",
    "     C 266.78666,211.76606 241.98871,187.12253 211.5005,179.92186 \n",
    "     C 203.8953,178.12567 200.40831,177.86988 189.0005,178.27134 \n",
    "     C 173.93019,178.80168 167.30498,180.26871 156.08925,185.55888 \n",
    "     C 132.8924,196.50023 116.23621,216.81521 109.90648,241.88639 \n",
    "     C 108.09535,249.06004 107.84969,252.38603 108.2077,264.88639 \n",
    "     C 108.58615,278.10034 108.93262,280.39476 111.82513,288.842 \n",
    "     C 113.58452,293.98009 116.23139,300.28009 117.70707,302.842 \n",
    "     C 137.50495,337.21285 174.70639,353.29022 212.92994,343.99452 z\"\"\")\n",
    "    return hurricane\n",
    "hurricane = get_hurricane_marker()\n",
    "hurricane.vertices -= hurricane.vertices.mean()"
   ]
  },
  {
   "cell_type": "code",
   "execution_count": null,
   "metadata": {},
   "outputs": [],
   "source": [
    "# get profiles in any shape of interest\n",
    "def get_selection_profiles(startDate, endDate, shape, presRange=None, printUrl=True):\n",
    "    url = 'https://argovis.colorado.edu/selection/profiles'\n",
    "    url += '?startDate={}'.format(startDate)\n",
    "    url += '&endDate={}'.format(endDate)\n",
    "    url += '&shape={}'.format(shape)\n",
    "    if presRange:\n",
    "        pressRangeQuery = '&presRange=' + presRange\n",
    "        url += pressRangeQuery\n",
    "    if printUrl:\n",
    "        print(url)\n",
    "    resp = requests.get(url)\n",
    "    # Consider any status other than 2xx an error\n",
    "    if not resp.status_code // 100 == 2:\n",
    "        return \"Error: Unexpected response {}\".format(resp)\n",
    "    selectionProfiles = resp.json()    \n",
    "    return selectionProfiles"
   ]
  },
  {
   "cell_type": "code",
   "execution_count": null,
   "metadata": {},
   "outputs": [],
   "source": [
    "# parse profiles into a dataframe\n",
    "def parse_into_df(profiles):\n",
    "    meas_keys = profiles[0]['measurements'][0].keys()\n",
    "    df = pd.DataFrame(columns=meas_keys)\n",
    "    for profile in profiles:\n",
    "        profileDf = pd.DataFrame(profile['measurements'])\n",
    "        profileDf['cycle_number'] = profile['cycle_number']\n",
    "        profileDf['profile_id'] = profile['_id']\n",
    "        profileDf['lat'] = profile['lat']\n",
    "        profileDf['lon'] = profile['lon']\n",
    "        profileDf['date'] = profile['date']\n",
    "        df = pd.concat([df, profileDf], sort=False)\n",
    "    return df"
   ]
  },
  {
   "cell_type": "code",
   "execution_count": null,
   "metadata": {},
   "outputs": [],
   "source": [
    "def plot_tracks_time_in_col(TCs_Dict):\n",
    "    for i in range(0,len(TCs_Dict)):\n",
    "        df  = pd.DataFrame(TCs_Dict[i]['traj_data'])\n",
    "        dti = pd.to_datetime(df['timestamp'])\n",
    "        #plt.plot(df['lon'],df['lat'],transform=ccrs.Geodetic(),c='k')\n",
    "        plt.scatter(df['lon'],df['lat'],transform=ccrs.Geodetic(),s=5,c=mdates.date2num(dti))\n",
    "    # cb = plt.colorbar()\n",
    "    # loc = mdates.AutoDateLocator()\n",
    "    # cb.ax.yaxis.set_major_locator(loc)\n",
    "    # cb.ax.yaxis.set_major_formatter(mdates.ConciseDateFormatter(loc))\n",
    "    plt.show()"
   ]
  },
  {
   "cell_type": "code",
   "execution_count": null,
   "metadata": {},
   "outputs": [],
   "source": [
    "def TC_and_stroms_view(startDate,endDate,tag_TC_or_SH_FILT='TC'):\n",
    "    TCs_Dict = get_TCs_byDate(startDate,endDate=endDate)\n",
    "    fig = plt.figure(figsize=(15,15))\n",
    "\n",
    "    ax = plt.axes(projection=ccrs.Mollweide())\n",
    "    ax.stock_img()\n",
    "\n",
    "    bool_list = [] #True*len(TCs_Dict)\n",
    "    for x in TCs_Dict:\n",
    "        if ('SH_FILT' in tag_TC_or_SH_FILT):\n",
    "            bool_list.append('SH_FILT' in x['_id'])\n",
    "        else:\n",
    "            bool_list.append(~('SH_FILT' in x['_id']))\n",
    "            \n",
    "    output_select = list(compress(TCs_Dict, bool_list))\n",
    "    \n",
    "    plot_tracks_time_in_col(list(compress(TCs_Dict, bool_list)))\n",
    "    return output_select"
   ]
  },
  {
   "cell_type": "code",
   "execution_count": null,
   "metadata": {},
   "outputs": [],
   "source": [
    "def plot_prof(dataX,dataY,xlab,ylab,xlim,ylim,col):\n",
    "\n",
    "    plt.plot(dataX,dataY,color=col,linewidth=5)\n",
    "\n",
    "#     #ax.set_title('An Argo Profile \\n in the style of XKCD')\n",
    "    plt.gca().set_xlabel(xlab,fontsize=24)\n",
    "    plt.gca().set_ylabel(ylab,fontsize=24)\n",
    "    plt.ylim(ylim)\n",
    "    if xlim:\n",
    "        plt.xlim(xlim)\n",
    "    plt.gca().invert_yaxis()\n",
    "    #ax.invert_yaxis()\n",
    "    \n",
    "    for tick in plt.gca().xaxis.get_majorticklabels():  # example for xaxis\n",
    "        tick.set_fontsize(24) \n",
    "    for tick in plt.gca().yaxis.get_majorticklabels():  # example for xaxis\n",
    "        tick.set_fontsize(24) \n",
    "    return"
   ]
  },
  {
   "cell_type": "markdown",
   "metadata": {},
   "source": [
    "**Let's now get and plot all the TC/SH storms in a time window of interest. Tracks will show up if one of their points occurs in the time window of interest. Too large time windows will not work as there is a limit to the size of the request. If a long time window is needed, the request could be made e.g. month by month, using in a loop.**"
   ]
  },
  {
   "cell_type": "markdown",
   "metadata": {},
   "source": [
    "Let's first look at the southern hemisphere."
   ]
  },
  {
   "cell_type": "code",
   "execution_count": null,
   "metadata": {},
   "outputs": [],
   "source": [
    "SH_storms = TC_and_stroms_view(startDate='2017-12-20',endDate='2018-02-15',tag_TC_or_SH_FILT='SH_FILT') #startDate='2018-07-15',endDate='2018-09-15')"
   ]
  },
  {
   "cell_type": "markdown",
   "metadata": {},
   "source": [
    "Let's now look at the tropics."
   ]
  },
  {
   "cell_type": "code",
   "execution_count": null,
   "metadata": {},
   "outputs": [],
   "source": [
    "TCs = TC_and_stroms_view(startDate='2017-07-01',endDate='2017-09-30') #startDate='2018-07-15',endDate='2018-09-15')"
   ]
  },
  {
   "cell_type": "markdown",
   "metadata": {},
   "source": [
    "**Let's look at the list of names (for those TC that have names)**"
   ]
  },
  {
   "cell_type": "code",
   "execution_count": null,
   "metadata": {},
   "outputs": [],
   "source": [
    "for x in TCs:\n",
    "    # print(x['_id'])\n",
    "    if 'name' in x.keys():\n",
    "        print('ID: ' + x['_id']+'; '+x['name']+' '+str(x['year']))    "
   ]
  },
  {
   "cell_type": "markdown",
   "metadata": {},
   "source": [
    "**Now let's pick a name and year and query Argo profiles near a TC of interest**"
   ]
  },
  {
   "cell_type": "code",
   "execution_count": null,
   "metadata": {},
   "outputs": [],
   "source": [
    "# let's note the name and year of interest\n",
    "tc_name = 'maria'#'isaac'#'matthew' #'madeline' #'lester'\n",
    "tc_year = 2017\n",
    "# let's load the track of interest\n",
    "tc_star = get_TCs_byNameYear(tc_name,tc_year)#'humberto',2019)\n",
    "df  = pd.DataFrame(tc_star[0]['traj_data'])\n",
    "\n",
    "# let's set the param for the co-location with Argo profile (for now we use a box around the point based on lon and lat, it can be improved)\n",
    "delta_days = 7\n",
    "dx = .75\n",
    "dy = .75\n",
    "presRange=[0,100]\n",
    "  \n",
    "# xmin = -95 #-178\n",
    "# xmax = -50 #-110\n",
    "# ymin = 10\n",
    "# ymax = 40  "
   ]
  },
  {
   "cell_type": "code",
   "execution_count": null,
   "metadata": {
    "scrolled": false
   },
   "outputs": [],
   "source": [
    "prof_beforeTC = []\n",
    "prof_afterTC  = []\n",
    "\n",
    "fig = plt.figure(figsize=(15,15))\n",
    "\n",
    "ax = plt.axes(projection=ccrs.PlateCarree()) #Mollweide\n",
    "ax.add_feature(cft.LAND)\n",
    "ax.add_feature(cft.OCEAN)\n",
    "ax.add_feature(cft.COASTLINE)\n",
    "ax.add_feature(cft.BORDERS, linestyle=':')\n",
    "#ax.set_extent([xmin,xmax, ymin, ymax],crs=ccrs.PlateCarree())\n",
    "\n",
    "im = plt.scatter(df['lon'],df['lat'],transform=ccrs.Geodetic(),s=2000,marker=hurricane, \n",
    "            c=df['wind'], facecolors='none', linewidth=3.5)\n",
    "# look for \"before\" profiles\n",
    "dti = pd.to_datetime(df['timestamp'])\n",
    "for i in np.arange(0,len(df['lon']),1):\n",
    "    for ii in np.arange(0,2,1):\n",
    "        if ii == 0:\n",
    "            startDate=str(dti[i]-timedelta(days=delta_days))[0:10]\n",
    "            endDate=str(dti[i])[0:10]\n",
    "            mrkr = '*'\n",
    "            col = 'k'\n",
    "        else:\n",
    "            startDate=str(dti[i])[0:10]\n",
    "            endDate=str(dti[i]+timedelta(days=delta_days))[0:10]\n",
    "            mrkr = '*' \n",
    "            col = 'red'\n",
    "        shape = [[[df['lon'][i]-(dx/2),df['lat'][i]-(dy/2)],[df['lon'][i]-(dx/2),df['lat'][i]+(dy/2)],[df['lon'][i]+(dx/2),df['lat'][i]+(dy/2)],[df['lon'][i]+(dx/2),df['lat'][i]-(dx/2)],[df['lon'][i]-(dx/2),df['lat'][i]-(dy/2)]]]\n",
    "        \n",
    "        strShape = str(shape).replace(' ', '')\n",
    "        selectionProfiles = get_selection_profiles(startDate, endDate, strShape, str(presRange), printUrl=False)\n",
    "        selectionProfiles_raw = selectionProfiles\n",
    "        if len(selectionProfiles) > 0 and not isinstance(selectionProfiles,str):\n",
    "            selectionDf = parse_into_df(selectionProfiles)\n",
    "            selectionDf.replace(-999, np.nan, inplace=True)\n",
    "\n",
    "            gb     = selectionDf.groupby(by='profile_id')\n",
    "            groups = dict(list(gb))\n",
    "            gb_list = gb.groups.keys()\n",
    "            \n",
    "            if ii == 0:\n",
    "                prof_beforeTC.append(groups)\n",
    "            else:\n",
    "                prof_afterTC.append(groups)\n",
    "            for tag_id in gb_list:\n",
    "#                 print('----------------------------')\n",
    "#                 print(col)\n",
    "#                 print(tag_id)\n",
    "#                 print(groups[tag_id]['date'][0])\n",
    "#                 print('tc (time, lon, lat):')\n",
    "#                 print(dti[i])\n",
    "#                 print(df['lon'][i])\n",
    "#                 print(df['lat'][i])\n",
    "               \n",
    "                plt.plot(groups[tag_id]['lon'][0],groups[tag_id]['lat'][0],mrkr,transform=ccrs.Geodetic(),markersize=15,linewidth=4,color=col)\n",
    "                \n",
    "#                 if groups[list(gb_list)[j]]['lon'][0]>=xmin and groups[list(gb_list)[j]]['lon'][0]<=xmax and \\\n",
    "#                 groups[list(gb_list)[j]]['lat'][0]>=ymin and groups[list(gb_list)[j]]['lat'][0]<=ymax:\n",
    "                if col=='k':\n",
    "                    ax.text(groups[tag_id]['lon'][0]+.25, groups[tag_id]['lat'][0], tag_id,transform=ccrs.Geodetic(),color=col)\n",
    "                elif col=='red':\n",
    "                    ax.text(groups[tag_id]['lon'][0]+.25, groups[tag_id]['lat'][0], tag_id,transform=ccrs.Geodetic(),color=col)\n",
    "        else:\n",
    "            if ii == 0:\n",
    "                prof_beforeTC.append([])\n",
    "            else:\n",
    "                prof_afterTC.append([])\n",
    "plt.show()"
   ]
  },
  {
   "cell_type": "markdown",
   "metadata": {},
   "source": [
    "**For some locations on the track, we may have profiles before and after: let's look at profiles near these locations, if any**"
   ]
  },
  {
   "cell_type": "code",
   "execution_count": null,
   "metadata": {},
   "outputs": [],
   "source": [
    "for x,y in zip(prof_beforeTC,prof_afterTC):\n",
    "    if any(x) and any(y):\n",
    "        print('-------------')\n",
    "        # temperature\n",
    "        fig = plt.figure(figsize=(20,10))\n",
    "        plt.subplot(121)\n",
    "        for d in x.keys():\n",
    "            print('Temperature, before (black): ' + d)\n",
    "            plot_prof(dataX=x[d]['temp'],dataY=x[d]['pres'],xlab='Temperature, degC',ylab='Pressure, dbar',xlim=[],ylim=presRange,col='k')\n",
    "        for d in y.keys():\n",
    "            print('Temperature, after (red): ' + d)\n",
    "            plot_prof(dataX=y[d]['temp'],dataY=y[d]['pres'],xlab='Temperature, degC',ylab='Pressure, dbar',xlim=[],ylim=presRange,col='r')\n",
    "        # salinity\n",
    "        plt.subplot(122)\n",
    "        for d in x.keys():\n",
    "            print('Salinity, before (black): ' + d)\n",
    "            try:\n",
    "                plot_prof(dataX=x[d]['psal'],dataY=x[d]['pres'],xlab='Salinity, psu',ylab='Pressure, dbar',xlim=[],ylim=presRange,col='k')\n",
    "            except:\n",
    "                pass\n",
    "        for d in y.keys():\n",
    "            print('Salinity, after (red): ' + d)\n",
    "            try:\n",
    "                plot_prof(dataX=y[d]['psal'],dataY=y[d]['pres'],xlab='Salinity, psu',ylab='Pressure, dbar',xlim=[],ylim=presRange,col='r')\n",
    "            except:\n",
    "                pass\n",
    "        "
   ]
  },
  {
   "cell_type": "markdown",
   "metadata": {},
   "source": [
    "## Let's now make a plot for SOSE sea ice ##"
   ]
  },
  {
   "cell_type": "code",
   "execution_count": null,
   "metadata": {},
   "outputs": [],
   "source": [
    "# we define lists for the input to the function that gets SOSE sea icea data\n",
    "yreg_ALL = np.arange(-90.,-10.,40.).tolist()\n",
    "xreg_ALL = np.arange(-60.,-45.,5.).tolist() #(-180.,180.,5.)\n",
    "date_ALL = ['2013-06-01']"
   ]
  },
  {
   "cell_type": "code",
   "execution_count": null,
   "metadata": {},
   "outputs": [],
   "source": [
    "def get_SOSE_sea_ice(xreg,yreg,date,printUrl=True):\n",
    "    # yreg, xreg, date should be lists\n",
    "    url  = 'https://argovis.colorado.edu/griddedProducts/nonUniformGrid/window?'\n",
    "    url += 'gridName=sose_si_area_1_day_sparse&presLevel=0&'\n",
    "    url += 'latRange={}'.format(yreg)\n",
    "    url += '&lonRange={}'.format(xreg)\n",
    "    url += '&date={}'.format(date)\n",
    "    if printUrl:\n",
    "        print(url)\n",
    "    resp = requests.get(url)\n",
    "    # Consider any status other than 2xx an error\n",
    "    if not resp.status_code // 100 == 2:\n",
    "        return \"Error: Unexpected response {}\".format(resp)\n",
    "    selectionSeaIce = resp.json()    \n",
    "    return selectionSeaIce\n",
    "    "
   ]
  },
  {
   "cell_type": "code",
   "execution_count": null,
   "metadata": {},
   "outputs": [],
   "source": [
    "# parse profiles into a dataframe\n",
    "def parse_into_df_SeaIce(selectionSeaIce):\n",
    "    meas_keys = selectionSeaIce[0]['data'][0].keys()\n",
    "    df = pd.DataFrame(columns=meas_keys)\n",
    "    for data in selectionSeaIce[0]['data']:\n",
    "        bfrDf = pd.DataFrame(data={'lon':  [data['lon']], 'lat':  [data['lat']], 'value':  [data['value']]}) #pd.DataFrame(data={'lon':  data['lon'], 'lat':  data['lat']})\n",
    "        df = pd.concat([df, bfrDf], sort=False)\n",
    "    return df"
   ]
  },
  {
   "cell_type": "code",
   "execution_count": null,
   "metadata": {},
   "outputs": [],
   "source": [
    "color_map = plt.cm.get_cmap('Blues')\n",
    "reversed_color_map = color_map.reversed()\n",
    "for l in np.arange(0,len(date_ALL)):\n",
    "    fig = plt.figure(figsize=(15,15))\n",
    "    ax = plt.axes(projection=ccrs.SouthPolarStereo())\n",
    "    ax.coastlines()\n",
    "    ax.add_feature(cft.LAND)\n",
    "    ax.add_feature(cft.OCEAN)\n",
    "    #ax.stock_img()\n",
    "    ax.set_extent([-180, 180, -90, -35], crs=ccrs.PlateCarree())\n",
    "\n",
    "    for i in np.arange(0,len(xreg_ALL)-1):\n",
    "        for j in np.arange(0,len(yreg_ALL)-1):\n",
    "            selectionSeaIce  = get_SOSE_sea_ice(xreg=xreg_ALL[i:i+2],yreg=yreg_ALL[j:j+2],date=date_ALL[l])\n",
    "            df_SeaIce       = parse_into_df_SeaIce(selectionSeaIce)\n",
    "            plt.scatter(df_SeaIce['lon'],df_SeaIce['lat'],transform=ccrs.Geodetic(),s=5,cmap=reversed_color_map,c=df_SeaIce['value'])\n",
    "        \n",
    "    colorbar = plt.colorbar()"
   ]
  },
  {
   "cell_type": "code",
   "execution_count": null,
   "metadata": {},
   "outputs": [],
   "source": [
    "# 7900370_18"
   ]
  }
 ],
 "metadata": {
  "kernelspec": {
   "display_name": "Python 3",
   "language": "python",
   "name": "python3"
  },
  "language_info": {
   "codemirror_mode": {
    "name": "ipython",
    "version": 3
   },
   "file_extension": ".py",
   "mimetype": "text/x-python",
   "name": "python",
   "nbconvert_exporter": "python",
   "pygments_lexer": "ipython3",
   "version": "3.8.2"
  }
 },
 "nbformat": 4,
 "nbformat_minor": 4
}
