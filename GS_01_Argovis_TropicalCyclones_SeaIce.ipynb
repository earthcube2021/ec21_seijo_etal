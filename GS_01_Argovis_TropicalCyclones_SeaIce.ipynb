{
 "cells": [
  {
   "cell_type": "markdown",
   "metadata": {
    "toc": true
   },
   "source": [
    "<h1>Table of Contents<span class=\"tocSkip\"></span></h1>\n",
    "<div class=\"toc\"><ul class=\"toc-item\"><li><span><a href=\"#Investigating-upper-ocean-variability--during-tropical-cyclones-and-seasonal--sea-ice-formation-and-melting:-Argovis-APIs-exposed-to-co-locate-oceanic-and-atmospheric-datasets\" data-toc-modified-id=\"Investigating-upper-ocean-variability--during-tropical-cyclones-and-seasonal--sea-ice-formation-and-melting:-Argovis-APIs-exposed-to-co-locate-oceanic-and-atmospheric-datasets-1\"><span class=\"toc-item-num\">1&nbsp;&nbsp;</span>Investigating upper ocean variability  during tropical cyclones and seasonal  sea ice formation and melting: Argovis APIs exposed to co-locate oceanic and atmospheric datasets</a></span><ul class=\"toc-item\"><li><span><a href=\"#Author(s)\" data-toc-modified-id=\"Author(s)-1.1\"><span class=\"toc-item-num\">1.1&nbsp;&nbsp;</span>Author(s)</a></span></li><li><span><a href=\"#Purpose\" data-toc-modified-id=\"Purpose-1.2\"><span class=\"toc-item-num\">1.2&nbsp;&nbsp;</span>Purpose</a></span></li><li><span><a href=\"#Technical-contributions\" data-toc-modified-id=\"Technical-contributions-1.3\"><span class=\"toc-item-num\">1.3&nbsp;&nbsp;</span>Technical contributions</a></span></li><li><span><a href=\"#Methodology\" data-toc-modified-id=\"Methodology-1.4\"><span class=\"toc-item-num\">1.4&nbsp;&nbsp;</span>Methodology</a></span></li><li><span><a href=\"#Results\" data-toc-modified-id=\"Results-1.5\"><span class=\"toc-item-num\">1.5&nbsp;&nbsp;</span>Results</a></span></li><li><span><a href=\"#Funding\" data-toc-modified-id=\"Funding-1.6\"><span class=\"toc-item-num\">1.6&nbsp;&nbsp;</span>Funding</a></span></li><li><span><a href=\"#Keywords\" data-toc-modified-id=\"Keywords-1.7\"><span class=\"toc-item-num\">1.7&nbsp;&nbsp;</span>Keywords</a></span></li><li><span><a href=\"#Citation\" data-toc-modified-id=\"Citation-1.8\"><span class=\"toc-item-num\">1.8&nbsp;&nbsp;</span>Citation</a></span></li><li><span><a href=\"#Suggested-next-steps\" data-toc-modified-id=\"Suggested-next-steps-1.9\"><span class=\"toc-item-num\">1.9&nbsp;&nbsp;</span>Suggested next steps</a></span></li><li><span><a href=\"#Acknowledgements\" data-toc-modified-id=\"Acknowledgements-1.10\"><span class=\"toc-item-num\">1.10&nbsp;&nbsp;</span>Acknowledgements</a></span></li><li><span><a href=\"#Introduction-questions\" data-toc-modified-id=\"Introduction-questions-1.11\"><span class=\"toc-item-num\">1.11&nbsp;&nbsp;</span>Introduction questions</a></span></li></ul></li><li><span><a href=\"#2.-Setup\" data-toc-modified-id=\"2.-Setup-2\"><span class=\"toc-item-num\">2&nbsp;&nbsp;</span>2. Setup</a></span><ul class=\"toc-item\"><li><span><a href=\"#2.1-Library-import\" data-toc-modified-id=\"2.1-Library-import-2.1\"><span class=\"toc-item-num\">2.1&nbsp;&nbsp;</span>2.1 Library import</a></span></li></ul></li><li><span><a href=\"#3.-Functions-Definitions\" data-toc-modified-id=\"3.-Functions-Definitions-3\"><span class=\"toc-item-num\">3&nbsp;&nbsp;</span>3. Functions Definitions</a></span><ul class=\"toc-item\"><li><span><a href=\"#3.1-Functions-for-tropical-cylone-activities-(Section-4)\" data-toc-modified-id=\"3.1-Functions-for-tropical-cylone-activities-(Section-4)-3.1\"><span class=\"toc-item-num\">3.1&nbsp;&nbsp;</span>3.1 Functions for tropical cylone activities (Section 4)</a></span></li><li><span><a href=\"#3.2-Functions-for-sea-ice-activities-(Section-5)\" data-toc-modified-id=\"3.2-Functions-for-sea-ice-activities-(Section-5)-3.2\"><span class=\"toc-item-num\">3.2&nbsp;&nbsp;</span>3.2 Functions for sea-ice activities (Section 5)</a></span></li></ul></li><li><span><a href=\"#4.-Activity-1:-Changes-in-oceanic-properties-before-and-after-the-passage-of-a-tropical-cyclone\" data-toc-modified-id=\"4.-Activity-1:-Changes-in-oceanic-properties-before-and-after-the-passage-of-a-tropical-cyclone-4\"><span class=\"toc-item-num\">4&nbsp;&nbsp;</span>4. Activity 1: Changes in oceanic properties before and after the passage of a tropical cyclone</a></span><ul class=\"toc-item\"><li><span><a href=\"#4.1-Parameter-definitions\" data-toc-modified-id=\"4.1-Parameter-definitions-4.1\"><span class=\"toc-item-num\">4.1&nbsp;&nbsp;</span>4.1 Parameter definitions</a></span><ul class=\"toc-item\"><li><span><a href=\"#Q3.-During-what-time-of-the-year-do-you-expect-Southern-Hemisphere-tropical-cyclones-to-occur?-How-about-tropical-cyclones-in-the-Northern-Hemisphere?\" data-toc-modified-id=\"Q3.-During-what-time-of-the-year-do-you-expect-Southern-Hemisphere-tropical-cyclones-to-occur?-How-about-tropical-cyclones-in-the-Northern-Hemisphere?-4.1.1\"><span class=\"toc-item-num\">4.1.1&nbsp;&nbsp;</span>Q3. During what time of the year do you expect Southern Hemisphere tropical cyclones to occur? How about tropical cyclones in the Northern Hemisphere?</a></span></li><li><span><a href=\"#Based-on-your-answer-to-Q3,-select-a-time-window-of-interest-for-SH-extra-tropical-storms:\" data-toc-modified-id=\"Based-on-your-answer-to-Q3,-select-a-time-window-of-interest-for-SH-extra-tropical-storms:-4.1.2\"><span class=\"toc-item-num\">4.1.2&nbsp;&nbsp;</span>Based on your answer to Q3, select a time window of interest for SH extra-tropical storms:</a></span></li></ul></li><li><span><a href=\"#4.2-Data-Processing-and-Analysis\" data-toc-modified-id=\"4.2-Data-Processing-and-Analysis-4.2\"><span class=\"toc-item-num\">4.2&nbsp;&nbsp;</span>4.2 Data Processing and Analysis</a></span><ul class=\"toc-item\"><li><span><a href=\"#4.2.1-Map-southern-hemisphere-extra-tropical-storms-for-the-window-of-interest:\" data-toc-modified-id=\"4.2.1-Map-southern-hemisphere-extra-tropical-storms-for-the-window-of-interest:-4.2.1\"><span class=\"toc-item-num\">4.2.1&nbsp;&nbsp;</span>4.2.1 Map southern hemisphere extra-tropical storms for the window of interest:</a></span></li><li><span><a href=\"#4.2.2-Map-tropical-cyclones-for-the-window-of-interest:\" data-toc-modified-id=\"4.2.2-Map-tropical-cyclones-for-the-window-of-interest:-4.2.2\"><span class=\"toc-item-num\">4.2.2&nbsp;&nbsp;</span>4.2.2 Map tropical cyclones for the window of interest:</a></span></li><li><span><a href=\"#Q4.-Based-on-the-maps-above,-are-there-more-storms-in-the-southern-hemisphere-or-northern-hemisphere?-Are-there-many-tropical-cyclones-in-the-South-Atlantic-ocean?-Why?-(see:-https://www.aoml.noaa.gov/hrd-faq/#south-atlantic-and-tcs)\" data-toc-modified-id=\"Q4.-Based-on-the-maps-above,-are-there-more-storms-in-the-southern-hemisphere-or-northern-hemisphere?-Are-there-many-tropical-cyclones-in-the-South-Atlantic-ocean?-Why?-(see:-https://www.aoml.noaa.gov/hrd-faq/#south-atlantic-and-tcs)-4.2.3\"><span class=\"toc-item-num\">4.2.3&nbsp;&nbsp;</span>Q4. Based on the maps above, are there more storms in the southern hemisphere or northern hemisphere? Are there many tropical cyclones in the South Atlantic ocean? Why? (see: <a href=\"https://www.aoml.noaa.gov/hrd-faq/#south-atlantic-and-tcs\" target=\"_blank\">https://www.aoml.noaa.gov/hrd-faq/#south-atlantic-and-tcs</a>)</a></span></li><li><span><a href=\"#4.2.3-Print-a-list-of-tropical-cyclones-with-names:\" data-toc-modified-id=\"4.2.3-Print-a-list-of-tropical-cyclones-with-names:-4.2.4\"><span class=\"toc-item-num\">4.2.4&nbsp;&nbsp;</span>4.2.3 Print a list of tropical cyclones with names:</a></span></li><li><span><a href=\"#4.2.4-Select-a-storm-from-the-list-above-(name-and-year):\" data-toc-modified-id=\"4.2.4-Select-a-storm-from-the-list-above-(name-and-year):-4.2.5\"><span class=\"toc-item-num\">4.2.5&nbsp;&nbsp;</span>4.2.4 Select a storm from the list above (name and year):</a></span></li><li><span><a href=\"#4.2.5-Load-the-track-for-the-storm-of-interest:\" data-toc-modified-id=\"4.2.5-Load-the-track-for-the-storm-of-interest:-4.2.6\"><span class=\"toc-item-num\">4.2.6&nbsp;&nbsp;</span>4.2.5 Load the track for the storm of interest:</a></span></li><li><span><a href=\"#4.2.6-Set-parameters-for-the-co-location-of-Argo-float-profiles\" data-toc-modified-id=\"4.2.6-Set-parameters-for-the-co-location-of-Argo-float-profiles-4.2.7\"><span class=\"toc-item-num\">4.2.7&nbsp;&nbsp;</span>4.2.6 Set parameters for the co-location of Argo float profiles</a></span></li><li><span><a href=\"#4.2.7-Map-the-selected-tropical-cyclone-track-and-location-of-Argo-float-profiles-along-the-track.\" data-toc-modified-id=\"4.2.7-Map-the-selected-tropical-cyclone-track-and-location-of-Argo-float-profiles-along-the-track.-4.2.8\"><span class=\"toc-item-num\">4.2.8&nbsp;&nbsp;</span>4.2.7 Map the selected tropical cyclone track and location of Argo float profiles along the track.</a></span></li><li><span><a href=\"#Q5.-Before-plotting-before-and-after-temperature-and-salinity-profiles-along-the-track:-What-do-you-expect-will-happen-to-ocean-temperature-and-salinity-after-the-passage-of-a-Tropical-Cyclone?\" data-toc-modified-id=\"Q5.-Before-plotting-before-and-after-temperature-and-salinity-profiles-along-the-track:-What-do-you-expect-will-happen-to-ocean-temperature-and-salinity-after-the-passage-of-a-Tropical-Cyclone?-4.2.9\"><span class=\"toc-item-num\">4.2.9&nbsp;&nbsp;</span>Q5. Before plotting before and after temperature and salinity profiles along the track: What do you expect will happen to ocean temperature and salinity after the passage of a Tropical Cyclone?</a></span></li><li><span><a href=\"#Q6.-What-is-(are)-the-physical-mechanism(s)-leading-to-these-changes?\" data-toc-modified-id=\"Q6.-What-is-(are)-the-physical-mechanism(s)-leading-to-these-changes?-4.2.10\"><span class=\"toc-item-num\">4.2.10&nbsp;&nbsp;</span>Q6. What is (are) the physical mechanism(s) leading to these changes?</a></span></li><li><span><a href=\"#4.2.8-Print-a-list-of-Argo-float-profiles-before-and-after-the-passage-of-the-tropical.-Plot-the-profiles.\" data-toc-modified-id=\"4.2.8-Print-a-list-of-Argo-float-profiles-before-and-after-the-passage-of-the-tropical.-Plot-the-profiles.-4.2.11\"><span class=\"toc-item-num\">4.2.11&nbsp;&nbsp;</span>4.2.8 Print a list of Argo float profiles before and after the passage of the tropical. Plot the profiles.</a></span></li><li><span><a href=\"#Q7.-Estimate-the-change-in-temperature-and-salinity-before-and-after-the-tropical-cyclone's-passage-at-different-pressure-levels.-Where-do-you-see-the-biggest-change?\" data-toc-modified-id=\"Q7.-Estimate-the-change-in-temperature-and-salinity-before-and-after-the-tropical-cyclone's-passage-at-different-pressure-levels.-Where-do-you-see-the-biggest-change?-4.2.12\"><span class=\"toc-item-num\">4.2.12&nbsp;&nbsp;</span>Q7. Estimate the change in temperature and salinity before and after the tropical cyclone's passage at different pressure levels. Where do you see the biggest change?</a></span></li><li><span><a href=\"#Q8.-If-we-define-the-ocean-heat-content-as:-HC-=-dT-*-density-*-C_p,-where-we-take-the-surface-density-to-be-1025kg/m^3-and-the-heat-capacity-=-3850-J/(kg-*-C).-Is-there-any-change-in-the-ocean-heat-content-before-and-after-the-passage-of-the-Tropical-Cyclone?\" data-toc-modified-id=\"Q8.-If-we-define-the-ocean-heat-content-as:-HC-=-dT-*-density-*-C_p,-where-we-take-the-surface-density-to-be-1025kg/m^3-and-the-heat-capacity-=-3850-J/(kg-*-C).-Is-there-any-change-in-the-ocean-heat-content-before-and-after-the-passage-of-the-Tropical-Cyclone?-4.2.13\"><span class=\"toc-item-num\">4.2.13&nbsp;&nbsp;</span>Q8. If we define the ocean heat content as: HC = dT * density * C_p, where we take the surface density to be 1025kg/m^3 and the heat capacity = 3850 J/(kg * C). Is there any change in the ocean heat content before and after the passage of the Tropical Cyclone?</a></span></li><li><span><a href=\"#Q9.--Repeat-the-analysis-for-different-Tropical-Cyclones.-Are-the-results-consistent-across-Tropical-Cyclones?-Wether-your-analysis-shows-consistent-results-or-not,-should-the-results-(i.e.-the-changes-in-temperature-and-salinity)-be-consistent-across-Tropical-Cyclones?-Why?\" data-toc-modified-id=\"Q9.--Repeat-the-analysis-for-different-Tropical-Cyclones.-Are-the-results-consistent-across-Tropical-Cyclones?-Wether-your-analysis-shows-consistent-results-or-not,-should-the-results-(i.e.-the-changes-in-temperature-and-salinity)-be-consistent-across-Tropical-Cyclones?-Why?-4.2.14\"><span class=\"toc-item-num\">4.2.14&nbsp;&nbsp;</span>Q9.  Repeat the analysis for different Tropical Cyclones. Are the results consistent across Tropical Cyclones? Wether your analysis shows consistent results or not, should the results (i.e. the changes in temperature and salinity) be consistent across Tropical Cyclones? Why?</a></span></li></ul></li><li><span><a href=\"#4.3-Activity-Results\" data-toc-modified-id=\"4.3-Activity-Results-4.3\"><span class=\"toc-item-num\">4.3&nbsp;&nbsp;</span>4.3 Activity Results</a></span></li></ul></li><li><span><a href=\"#Activity-2:-Changes-in-oceanic-properties-as-sea-ice-forms\" data-toc-modified-id=\"Activity-2:-Changes-in-oceanic-properties-as-sea-ice-forms-5\"><span class=\"toc-item-num\">5&nbsp;&nbsp;</span>Activity 2: Changes in oceanic properties as sea ice forms</a></span><ul class=\"toc-item\"><li><span><a href=\"#5.1-Parameter-definitions\" data-toc-modified-id=\"5.1-Parameter-definitions-5.1\"><span class=\"toc-item-num\">5.1&nbsp;&nbsp;</span>5.1 Parameter definitions</a></span></li><li><span><a href=\"#5.2-Data-Processing-and-Analysis\" data-toc-modified-id=\"5.2-Data-Processing-and-Analysis-5.2\"><span class=\"toc-item-num\">5.2&nbsp;&nbsp;</span>5.2 Data Processing and Analysis</a></span><ul class=\"toc-item\"><li><span><a href=\"#5.2.1-Map-SOSE-sea-ice-estimate-and-location-of-Argo-float-profiles-available-for-the-region-of-interest.-Print-a-list-of-Argo-float-profile-IDs-for-those-profiles-believed-to-be-under-ice.\" data-toc-modified-id=\"5.2.1-Map-SOSE-sea-ice-estimate-and-location-of-Argo-float-profiles-available-for-the-region-of-interest.-Print-a-list-of-Argo-float-profile-IDs-for-those-profiles-believed-to-be-under-ice.-5.2.1\"><span class=\"toc-item-num\">5.2.1&nbsp;&nbsp;</span>5.2.1 Map SOSE sea-ice estimate and location of Argo float profiles available for the region of interest. Print a list of Argo float profile IDs for those profiles believed to be under ice.</a></span></li><li><span><a href=\"#Q12.-According-to-the-map,-do-you-see-a-good-general-agreement-between-SOSE-sea-ice-coverage-and-Argo-floats-that-are-trapped-under-ice?\" data-toc-modified-id=\"Q12.-According-to-the-map,-do-you-see-a-good-general-agreement-between-SOSE-sea-ice-coverage-and-Argo-floats-that-are-trapped-under-ice?-5.2.2\"><span class=\"toc-item-num\">5.2.2&nbsp;&nbsp;</span>Q12. According to the map, do you see a good general agreement between SOSE sea-ice coverage and Argo floats that are trapped under ice?</a></span></li><li><span><a href=\"#Q13.-Is-there-a-region-in-general-where-there-is-disagreement-between-the-model-and-Argo?-(i.e.-model-indicates-sea-ice-coverage-but-Argo-has-QC-=-1-(good-data),-or-model-indicates-no-sea-ice-and-Argo-has-QC=8-(position-estimated))\" data-toc-modified-id=\"Q13.-Is-there-a-region-in-general-where-there-is-disagreement-between-the-model-and-Argo?-(i.e.-model-indicates-sea-ice-coverage-but-Argo-has-QC-=-1-(good-data),-or-model-indicates-no-sea-ice-and-Argo-has-QC=8-(position-estimated))-5.2.3\"><span class=\"toc-item-num\">5.2.3&nbsp;&nbsp;</span>Q13. Is there a region in general where there is disagreement between the model and Argo? (i.e. model indicates sea-ice coverage but Argo has QC = 1 (good data), or model indicates no sea-ice and Argo has QC=8 (position estimated))</a></span></li><li><span><a href=\"#Q14.-If-SOSE-leverages-Argo-float-observations-for-sea-ice-estimates,-why-do-you-think-there-is-not-100%-agreement-between-both?\" data-toc-modified-id=\"Q14.-If-SOSE-leverages-Argo-float-observations-for-sea-ice-estimates,-why-do-you-think-there-is-not-100%-agreement-between-both?-5.2.4\"><span class=\"toc-item-num\">5.2.4&nbsp;&nbsp;</span>Q14. If SOSE leverages Argo float observations for sea-ice estimates, why do you think there is not 100% agreement between both?</a></span></li><li><span><a href=\"#5.2.2-Select-a-float-of-interest-from-the-list-above.\" data-toc-modified-id=\"5.2.2-Select-a-float-of-interest-from-the-list-above.-5.2.5\"><span class=\"toc-item-num\">5.2.5&nbsp;&nbsp;</span>5.2.2 Select a float of interest from the list above.</a></span></li><li><span><a href=\"#5.2.3-Extract-profiles-from-selected-float-and-interpolate-the-profile-onto-custom-pressure-levels.-Print-a-table-with-profile-date,-location,-observed-data-(after-interpolation)-and-QC-flag.\" data-toc-modified-id=\"5.2.3-Extract-profiles-from-selected-float-and-interpolate-the-profile-onto-custom-pressure-levels.-Print-a-table-with-profile-date,-location,-observed-data-(after-interpolation)-and-QC-flag.-5.2.6\"><span class=\"toc-item-num\">5.2.6&nbsp;&nbsp;</span>5.2.3 Extract profiles from selected float and interpolate the profile onto custom pressure levels. Print a table with profile date, location, observed data (after interpolation) and QC flag.</a></span></li><li><span><a href=\"#5.2.4-Plot-float-position-colorcoded-by-the-QC-flag-at-each-position.\" data-toc-modified-id=\"5.2.4-Plot-float-position-colorcoded-by-the-QC-flag-at-each-position.-5.2.7\"><span class=\"toc-item-num\">5.2.7&nbsp;&nbsp;</span>5.2.4 Plot float position colorcoded by the QC flag at each position.</a></span></li><li><span><a href=\"#Q14.-Why-do-some-positions-follow-a-straight-line?-Note-this-happens-when-QC-=-8.\" data-toc-modified-id=\"Q14.-Why-do-some-positions-follow-a-straight-line?-Note-this-happens-when-QC-=-8.-5.2.8\"><span class=\"toc-item-num\">5.2.8&nbsp;&nbsp;</span>Q14. Why do some positions follow a straight line? Note this happens when QC = 8.</a></span></li><li><span><a href=\"#5.2.5-Save-the-fraction-of-sea-ice-(from-SOSE)-at-each-profile-position.\" data-toc-modified-id=\"5.2.5-Save-the-fraction-of-sea-ice-(from-SOSE)-at-each-profile-position.-5.2.9\"><span class=\"toc-item-num\">5.2.9&nbsp;&nbsp;</span>5.2.5 Save the fraction of sea-ice (from SOSE) at each profile position.</a></span></li><li><span><a href=\"#5.2.6-Generate-a-multi-panel-figure-showing:-a)-time-series-of-the-float's-QC-flag-value-and-fraction-of-sea-ice-from-SOSE,-b)-ocean-temperature-profiles-in-time-as-recorded-by-the-float-and,-c)-ocean-salinity-profiles-in-time-as-recorded-by-the-float.\" data-toc-modified-id=\"5.2.6-Generate-a-multi-panel-figure-showing:-a)-time-series-of-the-float's-QC-flag-value-and-fraction-of-sea-ice-from-SOSE,-b)-ocean-temperature-profiles-in-time-as-recorded-by-the-float-and,-c)-ocean-salinity-profiles-in-time-as-recorded-by-the-float.-5.2.10\"><span class=\"toc-item-num\">5.2.10&nbsp;&nbsp;</span>5.2.6 Generate a multi-panel figure showing: a) time series of the float's QC flag value and fraction of sea-ice from SOSE, b) ocean temperature profiles in time as recorded by the float and, c) ocean salinity profiles in time as recorded by the float.</a></span></li><li><span><a href=\"#Q15.-How-does-the-ocean-temperature-and-salinity-change-after-sea-ice-formation?-What-is(are)-the-physical-mechanism(s)-leading-to-these-changes?\" data-toc-modified-id=\"Q15.-How-does-the-ocean-temperature-and-salinity-change-after-sea-ice-formation?-What-is(are)-the-physical-mechanism(s)-leading-to-these-changes?-5.2.11\"><span class=\"toc-item-num\">5.2.11&nbsp;&nbsp;</span>Q15. How does the ocean temperature and salinity change after sea-ice formation? What is(are) the physical mechanism(s) leading to these changes?</a></span></li><li><span><a href=\"#Q16.-Describe-changes-to-the-mixed-layer-as-sea-ice-forms-and-melts.\" data-toc-modified-id=\"Q16.-Describe-changes-to-the-mixed-layer-as-sea-ice-forms-and-melts.-5.2.12\"><span class=\"toc-item-num\">5.2.12&nbsp;&nbsp;</span>Q16. Describe changes to the mixed layer as sea-ice forms and melts.</a></span></li><li><span><a href=\"#Q17.-Following-the-equation-on-Q8,-select-one-date-with-sea-ice-and-one-without-sea-ice-and-estimate-ocean-heat-content-change.\" data-toc-modified-id=\"Q17.-Following-the-equation-on-Q8,-select-one-date-with-sea-ice-and-one-without-sea-ice-and-estimate-ocean-heat-content-change.-5.2.13\"><span class=\"toc-item-num\">5.2.13&nbsp;&nbsp;</span>Q17. Following the equation on Q8, select one date with sea-ice and one without sea-ice and estimate ocean heat content change.</a></span></li><li><span><a href=\"#Q18.-Are-the-results-consistent-across-different-dates-and-floats?\" data-toc-modified-id=\"Q18.-Are-the-results-consistent-across-different-dates-and-floats?-5.2.14\"><span class=\"toc-item-num\">5.2.14&nbsp;&nbsp;</span>Q18. Are the results consistent across different dates and floats?</a></span></li></ul></li><li><span><a href=\"#5.3-Activity-Results\" data-toc-modified-id=\"5.3-Activity-Results-5.3\"><span class=\"toc-item-num\">5.3&nbsp;&nbsp;</span>5.3 Activity Results</a></span></li></ul></li><li><span><a href=\"#6.-References\" data-toc-modified-id=\"6.-References-6\"><span class=\"toc-item-num\">6&nbsp;&nbsp;</span>6. References</a></span></li></ul></div>"
   ]
  },
  {
   "cell_type": "markdown",
   "metadata": {
    "id": "4ByPWoClRCup"
   },
   "source": [
    "# Investigating upper ocean variability  during tropical cyclones and seasonal  sea ice formation and melting: Argovis APIs exposed to co-locate oceanic and atmospheric datasets\n",
    "---\n"
   ]
  },
  {
   "cell_type": "markdown",
   "metadata": {
    "id": "N_Jq67f4RCuq"
   },
   "source": [
    "## Author(s)\n",
    "---\n",
    "- Author1 = {\"name\": \"Giovanni Seijo-Ellis\", \"affiliation\": \"Department of Atmospheric and Oceanic Sciences, University of Colorado Boulder, Boulder, CO, United States\", \"email\": \"giovanni.seijo@colorado.edu\", \"orcid\": \"0000-0001-5626-9170\"}\n",
    "- Author2 = {\"name\": \"Donata Giglio\", \"affiliation\": \"Department of Atmospheric and Oceanic Sciences, University of Colorado Boulder, Boulder, CO, United States\", \"email\": \"donata.giglio@colorado.edu\"}\n",
    "- Author3 = {\"name\": \"Sarah Purkey\", \"affiliation\": \"CASPO, Scripps Institution of Oceanography, La Jolla, CA, United States.\", \"email\": \"spurkey@ucsd.edu\"}\n",
    "- Author4 = {\"name\": \"Megan Scanderbeg\", \"affiliation\": \"CASPO, Scripps Institution of Oceanography, La Jolla, CA, United States.\", \"email\": \"mscanderbeg@ucsd.edu\"}\n",
    "- Author5 = {\"name\": \"Tyler Tucker\", \"affiliation\": \"Department of Atmospheric and Oceanic Sciences, University of Colorado Boulder, Boulder, CO, United States\", \"email\": \"tytu6322@colorado.edu\"}\n",
    "\n"
   ]
  },
  {
   "cell_type": "markdown",
   "metadata": {
    "id": "FRmJ8CLMRCur"
   },
   "source": [
    "## Purpose\n",
    "---\n",
    "[Argovis](argovis.colorado.edu) is a web app and database that allows easy access to [Argo](http://www.argo.net/) profile observations of the global ocean and other earth science datasets using a browser and/or via Application Programming Interfaces (APIs). This notebook serves two main purposes: (i) introducing two new APIs available to access tropical cyclone (TC) track data and sea-ice concentration from the [Southern Ocean State Estimate (SOSE)](http://sose.ucsd.edu/sose.html), and (ii) leverage the capabilities of these APIs with interactive educational activities suitable for courses in oceanography and air-sea interactions. In addition, the notebook serves as a basis for research applications of the two APIs, e.g. to co-locate these datasets with oceanic observations (e.g. profiles of ocean temperature and salinity from Argo) for interdisciplinary research at the interface of different climate system components: the ocean, the atmosphere and the cryosphere.\n",
    "\n",
    "## Technical contributions\n",
    "---\n",
    "- Introduction of new Argovis API to access TC track data.\n",
    "- Introduction of new Argovis API to access sea-ice concentration from [SOSE](http://sose.ucsd.edu/sose.html).\n",
    "- Development of framework leveraging new and existing [Argovis](argovis.colorado.edu) APIs to co-locate observations with TCs in the global ocean, and sea-ice in the Southern Ocean.\n",
    "- Development of educational and research framework to examine changes in temperature and salinity oceanic profiles before and after events of interest via defined functions.\n",
    "- The authors note that this notebook also uses four functions developed by [Tucker, Giglio, Scanderbeg (2020)](https://www.essoar.org/doi/10.1002/essoar.10504304.1), i.e.: get_profile, get_platform_profiles, parse_into_df, parse_into_df_plev (with minor modifications)\n",
    "- In addition,  the function get_hurricane_marker leverages information from https://www.unidata.ucar.edu/blogs/developer/entry/metpy-mondays-150-hurricane-markers\n",
    "\n",
    "\n",
    "## Methodology\n",
    "---\n",
    "This notebook guides the user on an exploration of changes in oceanic properties before and after two distinct events: (i) passage of a tropical cyclone and, (ii) formation of sea-ice. To do so, we have defined a series of functions that leverage new and existing Argovis APIs. Additionally, the user will be given the opportunity to explore different events via user-defined parameters. The user will be guided through a series of questions in each activity with the goal of enhancing the educational outcomes of this notebook. \n",
    "\n",
    "In the following there will be two activities. The first activity (Section 4) will guide the user to co-locate and plot Argo float profiles of temperature and salinity along the track of a tropical cyclone before and after its passage. The second activity (Section 5) will guide the user to co-locate and plot Argo float profiles of temperature and salinity in the Southern Ocean before and after the float is believed to be trapped under sea-ice.\n",
    "\n",
    "The format of the activities is as follows: #####\n",
    "\n",
    "## Results\n",
    "---\n",
    "Upon completion of the activities on this notebook, the student will have gained new scientific knowledge on ocean properties changes due to: a) passages of tropical cyclones, and b) formation/melting of sea-ice. Here we present a general overview of the results of each activity and point the student toward useful references on each topic. The student is expected to provide their own results at the end of each activity. The student’s results will be based on their own plots, answers to questions, and references provided throughout the notebook.\n",
    "\n",
    "After completing the first activity (Section 4), an examination of temperature and salinity profiles before and after the passage of the selected tropical cyclone will show two general results. First, that temperature decreases after the passage of the tropical cyclone (that is, the ocean cools down). Second, that salinity changes after the passage of the tropical cyclone. The strong winds associated with a TC induce air-sea exchanges of heat and mixing in the upper ocean. As a result, cold waters from the subsurface rise and replace the warmer waters at the ocean surface leaving  a cold wake behind the tropical cyclone. Mixing induced changes in salinity depend on the initial structure of the salinity profile. In regions where salinity increases with depth, TC-induced mixing will result in a saltier upper ocean. For more information and details on air-sea exchanges during a TC see: [Steffen et al. (2018)](https://journals.ametsoc.org/view/journals/phoc/48/9/jpo-d-17-0262.1.xml) and [Trenberth et al. (2018)](https://agupubs.onlinelibrary.wiley.com/doi/full/10.1029/2018EF000825).\n",
    "\n",
    "For the second activity (Section 5), the student will examine changes in ocean temperatures and salinity during formation/melting of sea-ice in the Southern Ocean. The student will find that when sea-ice forms, the water underneath becomes colder and more saline (vice versa when sea-ice melts). When sea-ice forms, radiation from the sun is blocked by sea-ice and does not reach the water below it. Most of the radiation is reflected and thus does not warm the ocean resulting in cooling of the sea water. In addition, during the formation of sea-ice, a process called brine-rejection occurs. Because salt is rejected as ice forms, the water surrounding the newly formed ice becomes saltier (thus, denser). The process is an important driver of the thermohaline circulation. For more information and details see: [Frew et al. (2019)](https://journals.ametsoc.org/view/journals/phoc/49/9/jpo-d-18-0229.1.xml?tab_body=pdf) and the [National Snow and Ice Data Center.](https://nsidc.org/cryosphere/seaice/index.html)\n",
    "\n",
    "## Funding\n",
    "---\n",
    "- Award1 = {\"agency\": \"US National Science Foundation\", \"award_code\": \"2026776\", \"award_URL\": \"https://nsf.gov/awardsearch/showAward?AWD_ID=1928305&HistoricalAwards=false\"}\n",
    "- Award2 = {\"agency\": \"agency\", \"award_code\": \"1928305\", \"award_URL\": \"https://www.nsf.gov/awardsearch/showAward?AWD_ID=2026776&HistoricalAwards=false\"}\n",
    "\n",
    "## Keywords\n",
    "---\n",
    "keywords= [“argovis”,“argo\",\"floats”,\"SOSE”,\"B-SOSE\",\"tropical cyclones”,”sea-ice”,“oceanic profiles”]\n",
    "\n",
    "## Citation\n",
    "---\n",
    "Seijo-Ellis,G., Giglio, D., Purkey, S., Scanderbeg, M., Tucker, T. (2021). Investigating  upper ocean variability  during tropical cyclones and seasonal  sea ice formation and melting: Argovis APIs exposed to co-locate oceanic and atmospheric datasets.[url to github]. A DOI will be assigned to the notebook after review.\n",
    "\n",
    "## Suggested next steps\n",
    "---\n",
    "This notebook can be modified to improve the current methodology for more rigorous analysis and/or further exploration. The following suggestions can be incorporated into the notebook:\n",
    "- Improve profile selection function to include a distance from TC track parameter instead of a predefined box around each point of the tropical cyclone track. The function should verify that the before and after profiles are within a user-defined distance from one another.\n",
    "- The code can be extended to include biogeochemical ocean variables when available and analyze how these change during events of interest. This addition will enable interdisciplinary studies where ocean biogeochemistry is of interest.\n",
    "\n",
    "## Acknowledgements \n",
    "---\n",
    "The authors would like to thank the EarthCube Office for guidance provided during the preparation of this notebook. The authors would also like to thank the anonymous reviewers for the feedback. \n",
    "\n",
    "This notebook template extends the original notebook template provided with the jupytemplate extension [5]. It is a result of collaboration between the TAC Working Group and the EarthCube Office. The template is licensed under a [Creative Commons Attribution 4.0 International License.](http://creativecommons.org/licenses/by/4.0/)\n",
    "\n",
    "This notebook uses ocean profile data collected and made publically available through the international [Argo program](http://www.argo.net/) and sea ice data provided from [SOSE.](http://sose.ucsd.edu/sose.html)\n",
    "\n",
    "## Introduction questions\n",
    "---\n",
    "Answer the following questions based on the information provided in Section 1 and references therein:\n",
    "\n",
    "**Q1. What are Argo floats and what type of information do they provide? (see: https://argo.ucsd.edu/)**\n"
   ]
  },
  {
   "cell_type": "markdown",
   "metadata": {},
   "source": [
    "insert Q1 answer here"
   ]
  },
  {
   "cell_type": "markdown",
   "metadata": {},
   "source": [
    "**Q2. What is Argovis and how is it useful? (see: https://argovis.colorado.edu/docs/Argovis_About.html)**"
   ]
  },
  {
   "cell_type": "markdown",
   "metadata": {},
   "source": [
    "insert Q2 answer here"
   ]
  },
  {
   "cell_type": "markdown",
   "metadata": {
    "id": "2yZSFpFsRCus"
   },
   "source": [
    "# 2. Setup\n",
    "---\n",
    "\n",
    "## 2.1 Library import\n",
    "Import all the required Python libraries."
   ]
  },
  {
   "cell_type": "code",
   "execution_count": 4,
   "metadata": {
    "colab": {
     "base_uri": "https://localhost:8080/",
     "height": 337
    },
    "id": "JBfKSOM2RCus",
    "outputId": "350449d4-be83-451b-d08c-c47b20824e27"
   },
   "outputs": [
    {
     "ename": "ModuleNotFoundError",
     "evalue": "No module named 'requests'",
     "output_type": "error",
     "traceback": [
      "\u001b[0;31m---------------------------------------------------------------------------\u001b[0m",
      "\u001b[0;31mModuleNotFoundError\u001b[0m                       Traceback (most recent call last)",
      "\u001b[0;32m<ipython-input-4-e5c3df48465c>\u001b[0m in \u001b[0;36m<module>\u001b[0;34m\u001b[0m\n\u001b[1;32m      1\u001b[0m \u001b[0;31m# Data manipulation\u001b[0m\u001b[0;34m\u001b[0m\u001b[0;34m\u001b[0m\u001b[0;34m\u001b[0m\u001b[0m\n\u001b[0;32m----> 2\u001b[0;31m \u001b[0;32mimport\u001b[0m \u001b[0mrequests\u001b[0m\u001b[0;34m\u001b[0m\u001b[0;34m\u001b[0m\u001b[0m\n\u001b[0m\u001b[1;32m      3\u001b[0m \u001b[0;32mimport\u001b[0m \u001b[0mnumpy\u001b[0m \u001b[0;32mas\u001b[0m \u001b[0mnp\u001b[0m\u001b[0;34m\u001b[0m\u001b[0;34m\u001b[0m\u001b[0m\n\u001b[1;32m      4\u001b[0m \u001b[0;32mimport\u001b[0m \u001b[0mpandas\u001b[0m \u001b[0;32mas\u001b[0m \u001b[0mpd\u001b[0m\u001b[0;34m\u001b[0m\u001b[0;34m\u001b[0m\u001b[0m\n\u001b[1;32m      5\u001b[0m \u001b[0;32mfrom\u001b[0m \u001b[0mscipy\u001b[0m \u001b[0;32mimport\u001b[0m \u001b[0minterpolate\u001b[0m\u001b[0;34m\u001b[0m\u001b[0;34m\u001b[0m\u001b[0m\n",
      "\u001b[0;31mModuleNotFoundError\u001b[0m: No module named 'requests'"
     ]
    }
   ],
   "source": [
    "# Data manipulation\n",
    "import requests\n",
    "import numpy as np\n",
    "import pandas as pd\n",
    "from scipy import interpolate\n",
    "from itertools import compress\n",
    "from datetime import datetime\n",
    "from datetime import timedelta  \n",
    "\n",
    "# Visualizations\n",
    "import matplotlib\n",
    "import matplotlib.pylab as plt\n",
    "from matplotlib import cm\n",
    "import matplotlib.dates as mdates\n",
    "import cartopy.crs as ccrs\n",
    "import cartopy.feature as cft\n",
    "\n",
    "from svgpath2mpl import parse_path\n",
    "%matplotlib inline\n",
    "\n",
    "# Autoreload extension\n",
    "if 'autoreload' not in get_ipython().extension_manager.loaded:\n",
    "    %load_ext autoreload   \n",
    "%autoreload 2\n",
    "\n",
    "import warnings\n",
    "warnings.filterwarnings('ignore')"
   ]
  },
  {
   "cell_type": "markdown",
   "metadata": {
    "id": "Jfz-DEt7RCuu"
   },
   "source": [
    "\n",
    "# Functions Definitions\n",
    "---\n",
    "In this section all functions leveraged throughout the notebook are defined. Various of these function leverage Argovis APIs to query data based on user-defined parameters. Thus, data imports occur in sections 4.2 and 5.2 as part of the interactive activities. "
   ]
  },
  {
   "cell_type": "markdown",
   "metadata": {
    "id": "QeMQIdhAD3K1"
   },
   "source": [
    "## Functions for tropical cylone activities (Section 4)\n",
    "---"
   ]
  },
  {
   "cell_type": "code",
   "execution_count": null,
   "metadata": {
    "id": "I7gPIGybzc5y"
   },
   "outputs": [],
   "source": [
    "# get a tropical cyclone by date and year\n",
    "def get_TCs_byNameYear(tc_name,tc_year):\n",
    "    url = 'https://argovis.colorado.edu/tc/findByNameYear?name='+tc_name+'&year='+str(tc_year) #2018-07-15\n",
    "    print(url)\n",
    "    resp = requests.get(url)\n",
    "    # Consider any status other than 2xx an error\n",
    "    if not resp.status_code // 100 == 2:\n",
    "        return \"Error: Unexpected response {}\".format(resp)\n",
    "    data = resp.json()\n",
    "    return data"
   ]
  },
  {
   "cell_type": "code",
   "execution_count": null,
   "metadata": {
    "id": "HBy_KLXazi1e"
   },
   "outputs": [],
   "source": [
    "# get tropical cyclones (or SH storms) by date\n",
    "def get_TCs_byDate(startDate,endDate):\n",
    "    url = 'https://argovis.colorado.edu/tc/findByDateRange?startDate='+startDate+'T00:00:00&endDate='+endDate+'T00:00:00' #2018-07-15\n",
    "    print(url)\n",
    "    resp = requests.get(url)\n",
    "    # Consider any status other than 2xx an error\n",
    "    if not resp.status_code // 100 == 2:\n",
    "        return \"Error: Unexpected response {}\".format(resp)\n",
    "    data = resp.json()\n",
    "    return data"
   ]
  },
  {
   "cell_type": "code",
   "execution_count": null,
   "metadata": {
    "id": "rrs-zo0-zlc_"
   },
   "outputs": [],
   "source": [
    "# create a marker for tropical cyclones\n",
    "def get_hurricane_marker():\n",
    "    hurricane = parse_path(\"\"\"M 188.79857,492.55018 L 180.09663,484.17671 L 188.57725,474.97463 \n",
    "     C 212.44187,449.07984 230.37031,423.34927 246.04359,392.5 \n",
    "     C 254.14781,376.5487 265.0005,350.78866 265.0005,347.50373 \n",
    "     C 265.0005,346.53236 263.21255,347.40666 259.7505,350.07094 \n",
    "     C 251.67361,356.28665 233.85001,364.64767 222.5005,367.54485 \n",
    "     C 204.24051,372.20605 178.92084,371.97166 159.45635,366.96123 \n",
    "     C 147.77122,363.95331 130.93184,355.3283 122.0005,347.77659 \n",
    "     C 95.11018,325.04006 81.65749,291.36529 81.74139,247 \n",
    "     C 81.78993,221.33674 85.91479,197.1747 94.55247,171.95714 \n",
    "     C 111.06665,123.74428 136.98179,82.210848 180.29075,34.54693 \n",
    "     L 185.6999,28.59386 L 189.6002,31.718323 \n",
    "     C 191.74536,33.436777 195.9159,37.308373 198.86805,40.32187 \n",
    "     L 204.23561,45.800955 L 193.66355,57.483549 \n",
    "     C 168.69038,85.080007 151.53704,109.91644 136.8182,139.79028 \n",
    "     C 130.67851,152.2516 118.91503,180.17836 119.52809,180.83739 \n",
    "     C 119.70071,181.02295 122.91512,178.62979 126.67122,175.51926 \n",
    "     C 144.84799,160.46658 171.06913,152.9127 200.0005,154.39429 \n",
    "     C 227.96505,155.82638 249.78837,164.40176 267.15103,180.78081 \n",
    "     C 291.49094,203.74185 302.41509,234.21538 302.36063,279 \n",
    "     C 302.33536,299.77768 300.97355,312.12979 296.41891,332.89349 \n",
    "     C 286.70405,377.18157 262.85893,424.36347 228.55502,467.17452 \n",
    "     C 219.26505,478.76833 199.25099,501.02345 198.17004,500.96183 \n",
    "     C 197.80179,500.94084 193.58463,497.15559 188.79857,492.55018 \n",
    "     z M 212.92994,343.99452 C 242.28307,336.85605 266.31414,312.68729 \n",
    "     273.9846,282.59004 C 276.76052,271.6979 276.75301,253.72727 273.96762,242 \n",
    "     C 266.78666,211.76606 241.98871,187.12253 211.5005,179.92186 \n",
    "     C 203.8953,178.12567 200.40831,177.86988 189.0005,178.27134 \n",
    "     C 173.93019,178.80168 167.30498,180.26871 156.08925,185.55888 \n",
    "     C 132.8924,196.50023 116.23621,216.81521 109.90648,241.88639 \n",
    "     C 108.09535,249.06004 107.84969,252.38603 108.2077,264.88639 \n",
    "     C 108.58615,278.10034 108.93262,280.39476 111.82513,288.842 \n",
    "     C 113.58452,293.98009 116.23139,300.28009 117.70707,302.842 \n",
    "     C 137.50495,337.21285 174.70639,353.29022 212.92994,343.99452 z\"\"\")\n",
    "    return hurricane\n",
    "hurricane = get_hurricane_marker()\n",
    "hurricane.vertices -= hurricane.vertices.mean()"
   ]
  },
  {
   "cell_type": "code",
   "execution_count": null,
   "metadata": {
    "id": "7CsP1JwDzog_"
   },
   "outputs": [],
   "source": [
    "# this function is from Tucker, Giglio, Scanderbeg 2020 (https://www.essoar.org/doi/10.1002/essoar.10504304.1)\n",
    "# get profiles in any shape of interest\n",
    "def get_selection_profiles(startDate, endDate, shape, presRange=None, printUrl=True):\n",
    "    url = 'https://argovis.colorado.edu/selection/profiles'\n",
    "    url += '?startDate={}'.format(startDate)\n",
    "    url += '&endDate={}'.format(endDate)\n",
    "    url += '&shape={}'.format(shape)\n",
    "    if presRange:\n",
    "        pressRangeQuery = '&presRange=' + presRange\n",
    "        url += pressRangeQuery\n",
    "    if printUrl:\n",
    "        print(url)\n",
    "    resp = requests.get(url)\n",
    "    # Consider any status other than 2xx an error\n",
    "    if not resp.status_code // 100 == 2:\n",
    "        return \"Error: Unexpected response {}\".format(resp)\n",
    "    selectionProfiles = resp.json()    \n",
    "    return selectionProfiles"
   ]
  },
  {
   "cell_type": "code",
   "execution_count": null,
   "metadata": {
    "id": "ZECiy_6Xzqy5"
   },
   "outputs": [],
   "source": [
    "# this function is from Tucker, Giglio, Scanderbeg 2020 (https://www.essoar.org/doi/10.1002/essoar.10504304.1)\n",
    "def get_platform_profiles(platform_number):\n",
    "    url = 'https://argovis.colorado.edu/catalog/platforms/{}'.format(platform_number)\n",
    "    resp = requests.get(url)\n",
    "    # Consider any status other than 2xx an error\n",
    "    if not resp.status_code // 100 == 2:\n",
    "        return \"Error: Unexpected response {}\".format(resp)\n",
    "    platformProfiles = resp.json()\n",
    "    return platformProfiles"
   ]
  },
  {
   "cell_type": "code",
   "execution_count": null,
   "metadata": {
    "id": "Ue8JzL0tzv6A"
   },
   "outputs": [],
   "source": [
    "# this function is from Tucker, Giglio, Scanderbeg 2020 (https://www.essoar.org/doi/10.1002/essoar.10504304.1)\n",
    "# parse profiles into a dataframe\n",
    "def parse_into_df(profiles):\n",
    "    meas_keys = profiles[0]['measurements'][0].keys()\n",
    "    df = pd.DataFrame(columns=meas_keys)\n",
    "    for profile in profiles:\n",
    "        profileDf = pd.DataFrame(profile['measurements'])\n",
    "        profileDf['cycle_number'] = profile['cycle_number']\n",
    "        profileDf['profile_id'] = profile['_id']\n",
    "        profileDf['lat'] = profile['lat']\n",
    "        profileDf['lon'] = profile['lon']\n",
    "        profileDf['date'] = profile['date']\n",
    "        profileDf['position_qc'] = profile['position_qc']\n",
    "        df = pd.concat([df, profileDf], sort=False)\n",
    "    return df"
   ]
  },
  {
   "cell_type": "code",
   "execution_count": null,
   "metadata": {
    "id": "YbhWN_BCz3IK"
   },
   "outputs": [],
   "source": [
    "def plot_tracks_time_in_col(TCs_Dict,df_ctag='wind',df_title=''):\n",
    "    for i in range(0,len(TCs_Dict)):\n",
    "        df  = pd.DataFrame(TCs_Dict[i]['traj_data'])\n",
    "        #dti = pd.to_datetime(df['timestamp'])\n",
    "        #plt.plot(df['lon'],df['lat'],transform=ccrs.Geodetic(),c='k')\n",
    "        plt.scatter(df['lon'],df['lat'],transform=ccrs.Geodetic(),s=5,c=df[df_ctag],cmap='viridis')#c=mdates.date2num(dti))\n",
    "    cb = plt.colorbar(orientation='vertical',fraction=0.03,pad=0.02)\n",
    "    #cb_label = np.arange(0,6,1)\n",
    "    #cb.set_ticks(cb_label)\n",
    "    tt = plt.title(df_title,fontsize=24)\n",
    "    # loc = mdates.AutoDateLocator()\n",
    "    # cb.ax.yaxis.set_major_locator(loc)\n",
    "    # cb.ax.yaxis.set_major_formatter(mdates.ConciseDateFormatter(loc))\n",
    "    plt.show()\n",
    "    print(df)"
   ]
  },
  {
   "cell_type": "code",
   "execution_count": null,
   "metadata": {
    "id": "isaHaATXz6on"
   },
   "outputs": [],
   "source": [
    "def TC_and_storms_view(startDate,endDate,tag_TC_or_SH_FILT='TC'):\n",
    "    TCs_Dict = get_TCs_byDate(startDate,endDate=endDate)\n",
    "    fig = plt.figure(figsize=(15,15))\n",
    "\n",
    "    ax = plt.axes(projection=ccrs.Mollweide())\n",
    "    ax.stock_img()\n",
    "\n",
    "    bool_list = [] #True*len(TCs_Dict)\n",
    "    for x in TCs_Dict:\n",
    "        if ('SH_FILT' in tag_TC_or_SH_FILT):\n",
    "            df_title = ' Southern Hemisphere storms intensity '\n",
    "            df_ctag = 'intensity'\n",
    "            bool_list.append('SH_FILT' in x['_id'])\n",
    "        else:\n",
    "            df_title = 'Tropical Cyclone tracks and winds (color,units)'\n",
    "            df_ctag = 'wind'\n",
    "            bool_list.append(~('SH_FILT' in x['_id']))\n",
    "            \n",
    "    output_select = list(compress(TCs_Dict, bool_list))\n",
    "    \n",
    "    plot_tracks_time_in_col(list(compress(TCs_Dict, bool_list)),df_ctag,df_title)\n",
    "    return output_select"
   ]
  },
  {
   "cell_type": "code",
   "execution_count": null,
   "metadata": {
    "id": "B0wM6nWqz-yC"
   },
   "outputs": [],
   "source": [
    "def plot_prof(dataX,dataY,xlab,ylab,xlim,ylim,col):\n",
    "\n",
    "    plt.plot(dataX,dataY,color=col,linewidth=5)\n",
    "#     #ax.set_title('An Argo Profile \\n in the style of XKCD')\n",
    "    plt.gca().set_xlabel(xlab,fontsize=24)\n",
    "    plt.gca().set_ylabel(ylab,fontsize=24)\n",
    "    plt.ylim(ylim)\n",
    "    if xlim:\n",
    "        plt.xlim(xlim)\n",
    "    plt.gca().invert_yaxis()\n",
    "    #ax.invert_yaxis()\n",
    "    \n",
    "    for tick in plt.gca().xaxis.get_majorticklabels():  # example for xaxis\n",
    "        tick.set_fontsize(24) \n",
    "    for tick in plt.gca().yaxis.get_majorticklabels():  # example for xaxis\n",
    "        tick.set_fontsize(24) \n",
    "    return"
   ]
  },
  {
   "cell_type": "markdown",
   "metadata": {
    "id": "hevWdpdQECV1"
   },
   "source": [
    "## Functions for sea-ice activities (Section 5)\n",
    "---"
   ]
  },
  {
   "cell_type": "code",
   "execution_count": null,
   "metadata": {
    "id": "cAeZQmxbEG4g"
   },
   "outputs": [],
   "source": [
    "def get_SOSE_sea_ice(xreg,yreg,date,printUrl=True):\n",
    "    # yreg, xreg, date should be lists\n",
    "    url  = 'https://argovis.colorado.edu/griddedProducts/nonUniformGrid/window?'\n",
    "    url += 'gridName=sose_si_area_1_day_sparse&presLevel=0&'\n",
    "    url += 'latRange={}'.format(yreg)\n",
    "    url += '&lonRange={}'.format(xreg)\n",
    "    url += '&date={}'.format(date)\n",
    "    if printUrl:\n",
    "        print(url)\n",
    "    resp = requests.get(url)\n",
    "    # Consider any status other than 2xx an error\n",
    "    if not resp.status_code // 100 == 2:\n",
    "        return \"Error: Unexpected response {}\".format(resp)\n",
    "    selectionSeaIce = resp.json()    \n",
    "    return selectionSeaIce"
   ]
  },
  {
   "cell_type": "code",
   "execution_count": null,
   "metadata": {
    "id": "Zf_xLZrIEN8g"
   },
   "outputs": [],
   "source": [
    "def parse_into_df_SeaIce(selectionSeaIce):\n",
    "    meas_keys = selectionSeaIce[0]['data'][0].keys()\n",
    "    df = pd.DataFrame(columns=meas_keys)\n",
    "    for data in selectionSeaIce[0]['data']:\n",
    "        bfrDf = pd.DataFrame(data={'lon':  [data['lon']], 'lat':  [data['lat']], 'value':  [data['value']]}) #pd.DataFrame(data={'lon':  data['lon'], 'lat':  data['lat']})\n",
    "        df = pd.concat([df, bfrDf], sort=False)\n",
    "    return df"
   ]
  },
  {
   "cell_type": "code",
   "execution_count": null,
   "metadata": {
    "id": "PlbdXUkGESmp"
   },
   "outputs": [],
   "source": [
    "# this function is from Tucker, Giglio, Scanderbeg 2020 (https://www.essoar.org/doi/10.1002/essoar.10504304.1)\n",
    "def parse_into_df_plev(profiles, plev):\n",
    "    plevProfileList = []\n",
    "    for profile in profiles:\n",
    "        profileDf_bfr = pd.DataFrame(profile['measurements'])\n",
    "        plevProfile = profile\n",
    "        fT = interpolate.interp1d(profileDf_bfr['pres'], profileDf_bfr['temp'], bounds_error=False)\n",
    "        plevProfile['temp'] = fT(plev)\n",
    "        # some of the profiles in Argovis may not have salinity \n",
    "        # (either because there is no salinity value in the original Argo file or the quality is bad)\n",
    "        try:\n",
    "            fS = interpolate.interp1d(profileDf_bfr['pres'], profileDf_bfr['psal'], bounds_error=False)\n",
    "            plevProfile['psal'] = fS(plev)\n",
    "        except:\n",
    "            plevProfile['psal'] = np.nan #  No salinity found in profile\n",
    "        plevProfile['pres'] = plev\n",
    "        plevProfileList.append(plevProfile)\n",
    "    df = pd.DataFrame(plevProfileList)\n",
    "    df = df.sort_values(by=['cycle_number'])\n",
    "    df = df.reset_index(drop=True)\n",
    "    # print all that is available (only some of the info will be stored in the output dataframe, yet users can add more if interested)\n",
    "    print(df.keys())\n",
    "    df = df[['cycle_number','_id','date','lon','lat','pres','temp','psal','position_qc','date_qc']]\n",
    "    return df"
   ]
  },
  {
   "cell_type": "markdown",
   "metadata": {
    "id": "NRXjjKXORCuu"
   },
   "source": [
    "# Activity 1: Changes in oceanic properties before and after the passage of a tropical cyclone \n",
    "---\n",
    "In this first part of the analysis, the user will extract and plot all Tropical Cyclones and Southern Hemisphere extra tropical storms for a particular time-window (defined by the user) via the new TC/storm track data Argovis API. The user will then obtain the names of the plotted TCs (when available) and will be able to choose any TC of interest. Once a TC of interest has been identified, a second API will be used to co-locate Argo observations along the track of interest using a user-defined co-location strategy. A map with the TC track and Argo float locations of interest will be generated. We then compare the dates of the observations with the dates of the TC’s passage to identify profiles before and after. The notebook will print available observations along the track before and after the TC’s passage. Finally, a plot of temperature and salinity profiles is generated. The profiles are color coded: black (before TC passage), red (after TC passage)."
   ]
  },
  {
   "cell_type": "markdown",
   "metadata": {
    "id": "EniJ5jkb1TV7"
   },
   "source": [
    "## Parameter definitions\n",
    "---\n",
    "Here the user will define the first set of parameters to begin the first activity. However, the user will define additional parameters as they advance through the notebook.\n",
    "\n",
    "**Q3. During what time of the year do you expect Southern Hemisphere tropical cyclones to occur? How about tropical cyclones in the Northern Hemisphere?**"
   ]
  },
  {
   "cell_type": "markdown",
   "metadata": {},
   "source": [
    "insert Q3 answer here."
   ]
  },
  {
   "cell_type": "markdown",
   "metadata": {},
   "source": [
    "### Based on your answer to Q3, select a time window of interest for SH extra-tropical storms:\n",
    "---"
   ]
  },
  {
   "cell_type": "code",
   "execution_count": null,
   "metadata": {
    "id": "69Cpv6ug1SU-"
   },
   "outputs": [],
   "source": [
    "# format: 'yyyy-mm-dd'\n",
    "start = '2017-12-20'\n",
    "end   = '2018-02-15'"
   ]
  },
  {
   "cell_type": "markdown",
   "metadata": {
    "id": "4pN68P-a1WSc"
   },
   "source": [
    "## Data Processing and Analysis\n",
    "---"
   ]
  },
  {
   "cell_type": "markdown",
   "metadata": {
    "id": "7oB-wqC-2urp"
   },
   "source": [
    "### Map southern hemisphere extra-tropical storms for the window of interest:\n",
    "---"
   ]
  },
  {
   "cell_type": "code",
   "execution_count": null,
   "metadata": {
    "id": "77tXJfj31XzG"
   },
   "outputs": [],
   "source": [
    "SH_storms = TC_and_storms_view(startDate=start,endDate=end,tag_TC_or_SH_FILT='SH_FILT')"
   ]
  },
  {
   "cell_type": "markdown",
   "metadata": {
    "id": "3Co4azln20GS"
   },
   "source": [
    "### Map tropical cyclones for the window of interest:\n",
    "---"
   ]
  },
  {
   "cell_type": "code",
   "execution_count": null,
   "metadata": {
    "id": "AGRCqPKI2BS0"
   },
   "outputs": [],
   "source": [
    "start ='2017-07-01'\n",
    "end = '2017-09-30'\n",
    "TCs = TC_and_storms_view(startDate=start,endDate=end) #startDate='2018-07-15',endDate='2018-09-15')"
   ]
  },
  {
   "cell_type": "markdown",
   "metadata": {},
   "source": [
    "**Q4. Based on the maps above, are there more storms in the southern hemisphere or northern hemisphere? Are there many tropical cyclones in the South Atlantic ocean? Why? (see: https://www.aoml.noaa.gov/hrd-faq/#south-atlantic-and-tcs)**"
   ]
  },
  {
   "cell_type": "markdown",
   "metadata": {},
   "source": [
    "insert Q4 answer here."
   ]
  },
  {
   "cell_type": "markdown",
   "metadata": {
    "id": "CsAoEIKi3D2W"
   },
   "source": [
    "### Print a list of tropical cyclones with names:\n",
    "---"
   ]
  },
  {
   "cell_type": "code",
   "execution_count": null,
   "metadata": {
    "id": "SX4s0GgU2oFj"
   },
   "outputs": [],
   "source": [
    "for x in TCs:\n",
    "    # print(x['_id'])\n",
    "    if 'name' in x.keys():\n",
    "        print('ID: ' + x['_id']+'; '+x['name']+' '+str(x['year']))   "
   ]
  },
  {
   "cell_type": "markdown",
   "metadata": {
    "id": "9v5jNMq-4Ldi"
   },
   "source": [
    "### Select a storm from the list above (name and year):\n",
    "---"
   ]
  },
  {
   "cell_type": "code",
   "execution_count": null,
   "metadata": {
    "id": "L4EuCyu34bp0"
   },
   "outputs": [],
   "source": [
    "tc_name = 'maria'\n",
    "tc_year = 2017"
   ]
  },
  {
   "cell_type": "markdown",
   "metadata": {
    "id": "ChoyUexs4cYI"
   },
   "source": [
    "### Load the track for the storm of interest:\n",
    "---"
   ]
  },
  {
   "cell_type": "code",
   "execution_count": null,
   "metadata": {
    "id": "cTLmjvX14qkZ"
   },
   "outputs": [],
   "source": [
    "tc_star = get_TCs_byNameYear(tc_name,tc_year)#'humberto',2019)\n",
    "df  = pd.DataFrame(tc_star[0]['traj_data'])"
   ]
  },
  {
   "cell_type": "markdown",
   "metadata": {
    "id": "rHB-qreh4s-w"
   },
   "source": [
    "### Set parameters for the co-location of Argo float profiles\n",
    "---\n",
    "Here we set the temporal and spatial range for the co-location of Argo floats. The suggested parameters are: delta_days = 7 (days), dx = .75 (degree longitude), and dy = .75 (degree latitude). However, the user may change these if desired. The larger the temporal and spatial ranges, the more profiles will be included. Yet, in this case the interpretation becomes more challenging (profiles are further away from TC in space and time) as other mechanisms (not associated with the TC) may be impacting variability."
   ]
  },
  {
   "cell_type": "code",
   "execution_count": null,
   "metadata": {
    "id": "F1I62v2t5qPh"
   },
   "outputs": [],
   "source": [
    "\n",
    "delta_days = 7 #max number of days before and after TC passage to get profile pairs\n",
    "dx = .75 #degrees longitude\n",
    "dy = .75 #degree latitude\n",
    "presRange=[0,100] #decibar, [dbar]"
   ]
  },
  {
   "cell_type": "markdown",
   "metadata": {
    "id": "gEpkWyxK53vQ"
   },
   "source": [
    "### Map the selected tropical cyclone track and location of Argo float profiles along the track.\n",
    "---"
   ]
  },
  {
   "cell_type": "code",
   "execution_count": null,
   "metadata": {
    "id": "jCb-LlZZ6QoQ"
   },
   "outputs": [],
   "source": [
    "prof_beforeTC = []\n",
    "prof_afterTC  = []\n",
    "\n",
    "fig = plt.figure(figsize=(15,15))\n",
    "\n",
    "ax = plt.axes(projection=ccrs.PlateCarree()) #Mollweide\n",
    "ax.coastlines()\n",
    "ax.add_feature(cft.LAND)\n",
    "ax.add_feature(cft.OCEAN)\n",
    "# ax.add_feature(cft.COASTLINE)\n",
    "# ax.add_feature(cft.BORDERS, linestyle=':')\n",
    "#ax.set_extent([xmin,xmax, ymin, ymax],crs=ccrs.PlateCarree())\n",
    "\n",
    "im = plt.scatter(df['lon'],df['lat'],transform=ccrs.Geodetic(),s=2000,marker=hurricane, \n",
    "            c=df['wind'], facecolors='none', linewidth=3.5)\n",
    "\n",
    "# look for \"before\" profiles\n",
    "dti = pd.to_datetime(df['timestamp'])\n",
    "for i in np.arange(0,len(df['lon']),1):\n",
    "    for ii in np.arange(0,2,1):\n",
    "        if ii == 0:\n",
    "            startDate=str(dti[i]-timedelta(days=delta_days))[0:10]\n",
    "            endDate=str(dti[i])[0:10]\n",
    "            mrkr = '*'\n",
    "            col = 'k'\n",
    "        else:\n",
    "            startDate=str(dti[i])[0:10]\n",
    "            endDate=str(dti[i]+timedelta(days=delta_days))[0:10]\n",
    "            mrkr = '*' \n",
    "            col = 'red'\n",
    "        shape = [[[df['lon'][i]-(dx/2),df['lat'][i]-(dy/2)],[df['lon'][i]-(dx/2),df['lat'][i]+(dy/2)],[df['lon'][i]+(dx/2),df['lat'][i]+(dy/2)],[df['lon'][i]+(dx/2),df['lat'][i]-(dx/2)],[df['lon'][i]-(dx/2),df['lat'][i]-(dy/2)]]]\n",
    "        \n",
    "        strShape = str(shape).replace(' ', '')\n",
    "        selectionProfiles = get_selection_profiles(startDate, endDate, strShape, str(presRange), printUrl=False)\n",
    "        selectionProfiles_raw = selectionProfiles\n",
    "        if len(selectionProfiles) > 0 and not isinstance(selectionProfiles,str):\n",
    "            selectionDf = parse_into_df(selectionProfiles)\n",
    "            selectionDf.replace(-999, np.nan, inplace=True)\n",
    "\n",
    "            gb     = selectionDf.groupby(by='profile_id')\n",
    "            groups = dict(list(gb))\n",
    "            gb_list = gb.groups.keys()\n",
    "            \n",
    "            if ii == 0:\n",
    "                prof_beforeTC.append(groups)\n",
    "            else:\n",
    "                prof_afterTC.append(groups)\n",
    "            for tag_id in gb_list:\n",
    "#                 print('----------------------------')\n",
    "#                 print(col)\n",
    "#                 print(tag_id)\n",
    "#                 print(groups[tag_id]['date'][0])\n",
    "#                 print('tc (time, lon, lat):')\n",
    "#                 print(dti[i])\n",
    "#                 print(df['lon'][i])\n",
    "#                 print(df['lat'][i])\n",
    "               \n",
    "                plt.plot(groups[tag_id]['lon'][0],groups[tag_id]['lat'][0],mrkr,transform=ccrs.Geodetic(),markersize=15,linewidth=4,color=col)\n",
    "                \n",
    "#                 if groups[list(gb_list)[j]]['lon'][0]>=xmin and groups[list(gb_list)[j]]['lon'][0]<=xmax and \\\n",
    "#                 groups[list(gb_list)[j]]['lat'][0]>=ymin and groups[list(gb_list)[j]]['lat'][0]<=ymax:\n",
    "                if col=='k':\n",
    "                    ax.text(groups[tag_id]['lon'][0]+.25, groups[tag_id]['lat'][0], tag_id,transform=ccrs.Geodetic(),color=col)\n",
    "                elif col=='red':\n",
    "                    ax.text(groups[tag_id]['lon'][0]+.25, groups[tag_id]['lat'][0], tag_id,transform=ccrs.Geodetic(),color=col)\n",
    "        else:\n",
    "            if ii == 0:\n",
    "                prof_beforeTC.append([])\n",
    "            else:\n",
    "                prof_afterTC.append([])\n",
    "plt.title('Tropical Cyclone '+ tc_name + ' track and location of before (black) and after (red) profiles',fontsize=20)\n",
    "plt.show()"
   ]
  },
  {
   "cell_type": "markdown",
   "metadata": {},
   "source": [
    "**Q5. Before plotting before and after temperature and salinity profiles along the track: What do you expect will happen to ocean temperature and salinity after the passage of a Tropical Cyclone?**"
   ]
  },
  {
   "cell_type": "markdown",
   "metadata": {},
   "source": [
    "insert Q5 answer here."
   ]
  },
  {
   "cell_type": "markdown",
   "metadata": {},
   "source": [
    "**Q6. What is (are) the physical mechanism(s) leading to these changes?**"
   ]
  },
  {
   "cell_type": "markdown",
   "metadata": {},
   "source": [
    "insert Q6 answer here."
   ]
  },
  {
   "cell_type": "markdown",
   "metadata": {
    "id": "RvOvdo-B6UeV"
   },
   "source": [
    "### Print a list of Argo float profiles before and after the passage of the tropical. Plot the profiles. \n",
    "---"
   ]
  },
  {
   "cell_type": "code",
   "execution_count": null,
   "metadata": {
    "id": "vsPdGLH76pkL"
   },
   "outputs": [],
   "source": [
    "for x,y in zip(prof_beforeTC,prof_afterTC):\n",
    "    if any(x) and any(y):\n",
    "        print('-------------')\n",
    "        # temperature\n",
    "        fig = plt.figure(figsize=(20,10))\n",
    "        plt.subplot(121)\n",
    "        for d in x.keys():\n",
    "            print('Temperature, before (black): ' + d)\n",
    "            plot_prof(dataX=x[d]['temp'],dataY=x[d]['pres'],xlab='Temperature, degC',ylab='Pressure, dbar',xlim=[],ylim=presRange,col='k')\n",
    "        for d in y.keys():\n",
    "            print('Temperature, after (red): ' + d)\n",
    "            plot_prof(dataX=y[d]['temp'],dataY=y[d]['pres'],xlab='Temperature, degC',ylab='Pressure, dbar',xlim=[],ylim=presRange,col='r')\n",
    "        # salinity\n",
    "        plt.subplot(122)\n",
    "        for d in x.keys():\n",
    "            print('Salinity, before (black): ' + d)\n",
    "            try:\n",
    "                plot_prof(dataX=x[d]['psal'],dataY=x[d]['pres'],xlab='Salinity, psu',ylab='Pressure, dbar',xlim=[],ylim=presRange,col='k')\n",
    "            except:\n",
    "                pass\n",
    "        for d in y.keys():\n",
    "            print('Salinity, after (red): ' + d)\n",
    "            try:\n",
    "                plot_prof(dataX=y[d]['psal'],dataY=y[d]['pres'],xlab='Salinity, psu',ylab='Pressure, dbar',xlim=[],ylim=presRange,col='r')\n",
    "            except:\n",
    "                pass"
   ]
  },
  {
   "cell_type": "markdown",
   "metadata": {},
   "source": [
    "**Q7. Estimate the change in temperature and salinity before and after the tropical cyclone's passage at different pressure levels. Where do you see the biggest change?**"
   ]
  },
  {
   "cell_type": "markdown",
   "metadata": {},
   "source": [
    "insert Q7 answer here."
   ]
  },
  {
   "cell_type": "markdown",
   "metadata": {},
   "source": [
    "**Q8. If we define the ocean heat content as: HC = dT * density * C_p, where we take the surface density to be 1025kg/m^3 and the heat capacity = 3850 J/(kg * C). Is there any change in the ocean heat content before and after the passage of the Tropical Cyclone?**"
   ]
  },
  {
   "cell_type": "markdown",
   "metadata": {},
   "source": [
    "insert Q8 answer here."
   ]
  },
  {
   "cell_type": "markdown",
   "metadata": {},
   "source": [
    " **Q9.  Repeat the analysis for different Tropical Cyclones. Are the results consistent across Tropical Cyclones? Wether your analysis shows consistent results or not, should the results (i.e. the changes in temperature and salinity) be consistent across Tropical Cyclones? Why?**"
   ]
  },
  {
   "cell_type": "markdown",
   "metadata": {},
   "source": [
    "insert Q9 answer here."
   ]
  },
  {
   "cell_type": "markdown",
   "metadata": {
    "id": "z_x7t3ApRiuH"
   },
   "source": [
    "## Activity Results\n",
    "---\n",
    "Present your results. You should leverage the information and references provided through the notebook (Sections 1.5 and 4). Make direct reference to the figures you generated throughout the activity. Use your answers to the different questions throughout the activity to guide your results narrative."
   ]
  },
  {
   "cell_type": "markdown",
   "metadata": {
    "id": "lNRe0sNMRlCI"
   },
   "source": [
    "insert your results here"
   ]
  },
  {
   "cell_type": "markdown",
   "metadata": {
    "id": "VSaOkfejeDBB"
   },
   "source": [
    "# Activity 2: Changes in oceanic properties as sea ice forms\n",
    "---\n",
    "The second activity in this notebook will guide users to explore sea-ice coverage estimates from [SOSE](http://sose.ucsd.edu/sose.html) and examine how ocean properties (as observed by [Argo](http://www.argo.net/) floats) change as sea-ice forms. For this, we will leverage the [Argo](http://www.argo.net/) float QC flag: QC flag = 8, indicates that the position of the float is estimated. This may happen when the float does not surface because it is trapped under ice (hence it may serve as an indirect proxy of sea-ice cover). The user will be able to select any particular date to examine. A map showing [SOSE](http://sose.ucsd.edu/sose.html) sea-ice estimate and location of [Argo](http://www.argo.net/) floats will be generated. A list of floats with estimated positions (i.e. thought to be under ice) will be printed on screen. The user will then generate a plot of the location and QC flag for a float of interest (e.g. from the list) in order to identify when the float was thought to be under sea-ice. Finally, the user will generate a multi-panel plot showing: a) time series of the float’s QC flag value and fraction of sea-ice from [SOSE](http://sose.ucsd.edu/sose.html), b) ocean temperature profiles in time as recorded by the float, and c) ocean salinity profiles in time as recorded by the float."
   ]
  },
  {
   "cell_type": "markdown",
   "metadata": {},
   "source": [
    "**Q10. What is [SOSE](http://sose.ucsd.edu/sose.html) and what type of data does it leverage for its sea-ice estimates? (see: http://sose.ucsd.edu/sose.html)**"
   ]
  },
  {
   "cell_type": "markdown",
   "metadata": {},
   "source": [
    "insert Q10 answer here."
   ]
  },
  {
   "cell_type": "markdown",
   "metadata": {},
   "source": [
    "**Q11. Does [SOSE](http://sose.ucsd.edu/sose.html) include [Argo](http://www.argo.net/) float observations? If so, do you expect the SOSE sea-ice estimates to be consistent with Argo floats observations?**"
   ]
  },
  {
   "cell_type": "raw",
   "metadata": {},
   "source": [
    "insert Q11 answer here."
   ]
  },
  {
   "cell_type": "markdown",
   "metadata": {
    "id": "yMAR_Pm8A93h"
   },
   "source": [
    "## Parameter definitions\n",
    "---\n",
    "Here the user will define the first set of parameters to begin the second activity. However, the user will define additional parameters as they advance through the notebook.\n",
    "\n",
    "Define a list and date for [SOSE](http://sose.ucsd.edu/sose.html) sea-ice data extraction function (get_SOSE_sea_ice, Section 3.2):"
   ]
  },
  {
   "cell_type": "code",
   "execution_count": 2,
   "metadata": {
    "id": "N77od8vHFBHr"
   },
   "outputs": [
    {
     "ename": "NameError",
     "evalue": "name 'np' is not defined",
     "output_type": "error",
     "traceback": [
      "\u001b[0;31m---------------------------------------------------------------------------\u001b[0m",
      "\u001b[0;31mNameError\u001b[0m                                 Traceback (most recent call last)",
      "\u001b[0;32m<ipython-input-2-411ffd64e62f>\u001b[0m in \u001b[0;36m<module>\u001b[0;34m\u001b[0m\n\u001b[1;32m      4\u001b[0m \u001b[0;31m#that can be queried at the same time. Note: the larger the overall region, the longer the code\u001b[0m\u001b[0;34m\u001b[0m\u001b[0;34m\u001b[0m\u001b[0;34m\u001b[0m\u001b[0m\n\u001b[1;32m      5\u001b[0m \u001b[0;31m#will take to run due to high-resolution of the sea-ice data.\u001b[0m\u001b[0;34m\u001b[0m\u001b[0;34m\u001b[0m\u001b[0;34m\u001b[0m\u001b[0m\n\u001b[0;32m----> 6\u001b[0;31m \u001b[0myreg_ALL\u001b[0m \u001b[0;34m=\u001b[0m \u001b[0mnp\u001b[0m\u001b[0;34m.\u001b[0m\u001b[0marange\u001b[0m\u001b[0;34m(\u001b[0m\u001b[0;34m-\u001b[0m\u001b[0;36m90.\u001b[0m\u001b[0;34m,\u001b[0m\u001b[0;34m-\u001b[0m\u001b[0;36m10.\u001b[0m\u001b[0;34m,\u001b[0m\u001b[0;36m40.\u001b[0m\u001b[0;34m)\u001b[0m\u001b[0;34m.\u001b[0m\u001b[0mtolist\u001b[0m\u001b[0;34m(\u001b[0m\u001b[0;34m)\u001b[0m \u001b[0;31m#region\u001b[0m\u001b[0;34m\u001b[0m\u001b[0;34m\u001b[0m\u001b[0m\n\u001b[0m\u001b[1;32m      7\u001b[0m \u001b[0mxreg_ALL\u001b[0m \u001b[0;34m=\u001b[0m \u001b[0mnp\u001b[0m\u001b[0;34m.\u001b[0m\u001b[0marange\u001b[0m\u001b[0;34m(\u001b[0m\u001b[0;34m-\u001b[0m\u001b[0;36m60.\u001b[0m\u001b[0;34m,\u001b[0m\u001b[0;34m-\u001b[0m\u001b[0;36m15.\u001b[0m\u001b[0;34m,\u001b[0m\u001b[0;36m5.\u001b[0m\u001b[0;34m)\u001b[0m\u001b[0;34m.\u001b[0m\u001b[0mtolist\u001b[0m\u001b[0;34m(\u001b[0m\u001b[0;34m)\u001b[0m \u001b[0;31m#region (-180.,180.,5.)\u001b[0m\u001b[0;34m\u001b[0m\u001b[0;34m\u001b[0m\u001b[0m\n\u001b[1;32m      8\u001b[0m \u001b[0mdate_ALL\u001b[0m \u001b[0;34m=\u001b[0m \u001b[0;34m[\u001b[0m\u001b[0;34m'2013-06-01'\u001b[0m\u001b[0;34m]\u001b[0m\u001b[0;34m\u001b[0m\u001b[0;34m\u001b[0m\u001b[0m\n",
      "\u001b[0;31mNameError\u001b[0m: name 'np' is not defined"
     ]
    }
   ],
   "source": [
    "# we define lists for the input to the function that gets SOSE sea icea data\n",
    "#select region in latitude (yreg_ALL) and longitude, and date for sea-ice map. \n",
    "#Subregions are defined for latitude and longitude as there is a limit to the size of data \n",
    "#that can be queried at the same time. Note: the larger the overall region, the longer the code\n",
    "#will take to run due to high-resolution of the sea-ice data.\n",
    "yreg_ALL = np.arange(-90.,-10.,40.).tolist() #region\n",
    "xreg_ALL = np.arange(-60.,-15.,5.).tolist() #region (-180.,180.,5.)\n",
    "date_ALL = ['2013-06-01']\n",
    "startDate_seaice= '2017-12-20'\n",
    "endDate_seaice   = '2018-02-15'"
   ]
  },
  {
   "cell_type": "markdown",
   "metadata": {
    "id": "wtzfO-HXFKXL"
   },
   "source": [
    "## Data Processing and Analysis\n",
    "---"
   ]
  },
  {
   "cell_type": "markdown",
   "metadata": {
    "id": "OTGiLqAqFUku"
   },
   "source": [
    "### Map SOSE sea-ice estimate and location of Argo float profiles available for the region of interest. Print a list of Argo float profile IDs for those profiles believed to be under ice.\n",
    "---"
   ]
  },
  {
   "cell_type": "code",
   "execution_count": null,
   "metadata": {
    "id": "39TLBkeuFx2C",
    "scrolled": true
   },
   "outputs": [],
   "source": [
    "shape = [[[max(xreg_ALL),min(yreg_ALL)],[max(xreg_ALL),max(yreg_ALL)],[min(xreg_ALL),max(yreg_ALL)],[min(xreg_ALL),min(yreg_ALL)],[max(xreg_ALL),min(yreg_ALL)]]]\n",
    "strShape = str(shape).replace(' ', '')\n",
    "presRange='[0,50]'\n",
    "# selectionProfiles = get_selection_profiles(startDate_seaice, endDate_seaice, strShape, presRange,printUrl=False)\n",
    "# selectionProfiles_raw = selectionProfiles\n",
    "# if len(selectionProfiles) > 0:\n",
    "#     selectionDf = parse_into_df(selectionProfiles)\n",
    "# selectionDf.replace(-999, np.nan, inplace=True) #replace Fillvalue (-999) to nan.\n",
    "\n",
    "# color_map = plt.cm.get_cmap('Blues')\n",
    "#reversed_color_map = color_map.reversed()\n",
    "\n",
    "presRange='[0,50]' # pressure range of interest for Argo profiles\n",
    "plev_presRange = 30 # a number in the middle of the pressure range of interest should work for this\n",
    "delta_argo = 3 # how many days before and after the sea ice field we query profiles for"
   ]
  },
  {
   "cell_type": "code",
   "execution_count": null,
   "metadata": {},
   "outputs": [],
   "source": [
    "for l in np.arange(0,len(date_ALL)):\n",
    "    fig = plt.figure(figsize=(15,15))\n",
    "    ax = plt.axes(projection=ccrs.SouthPolarStereo())\n",
    "    ax.coastlines()\n",
    "    ax.add_feature(cft.LAND)\n",
    "    ax.add_feature(cft.OCEAN)\n",
    "    #ax.stock_img()\n",
    "    ax.set_extent([-180, 180, -90, -35], crs=ccrs.PlateCarree())\n",
    "\n",
    "    # dates for argo profiles\n",
    "    bfr_startDate = datetime.strptime(date_ALL[0], '%Y-%m-%d')\n",
    "    bfr_startDate -= timedelta(days=delta_argo)\n",
    "    bfr_endDate = datetime.strptime(date_ALL[0], '%Y-%m-%d')\n",
    "    bfr_endDate += timedelta(days=delta_argo)\n",
    "\n",
    "    str_flag = True\n",
    "    for i in np.arange(0,len(xreg_ALL)-1):\n",
    "        for j in np.arange(0,len(yreg_ALL)-1):\n",
    "            try:\n",
    "                selectionSeaIce  = get_SOSE_sea_ice(xreg=xreg_ALL[i:i+2],yreg=yreg_ALL[j:j+2],date=date_ALL[l],printUrl=False)\n",
    "                df_SeaIce       = parse_into_df_SeaIce(selectionSeaIce)\n",
    "                plt.scatter(df_SeaIce['lon'],df_SeaIce['lat'],transform=ccrs.Geodetic(),s=5,cmap=reversed_color_map,c=df_SeaIce['value'])\n",
    "            except:\n",
    "                pass\n",
    "            # add Argo profiles to the plot and print float number\n",
    "            # region\n",
    "            shape = [[[max(xreg_ALL[i:i+2]),min(yreg_ALL[j:j+2])],[max(xreg_ALL[i:i+2]),max(yreg_ALL[j:j+2])],\n",
    "                      [min(xreg_ALL[i:i+2]),max(yreg_ALL[j:j+2])],[min(xreg_ALL[i:i+2]),min(yreg_ALL[j:j+2])],\n",
    "                      [max(xreg_ALL[i:i+2]),min(yreg_ALL[j:j+2])]]]\n",
    "            strShape = str(shape).replace(' ', '')\n",
    "\n",
    "            bfr_selectionProfiles     = get_selection_profiles(bfr_startDate, bfr_endDate, strShape, presRange,printUrl=False)\n",
    "\n",
    "            if len(bfr_selectionProfiles) > 0:\n",
    "                bfr_selectionDf = parse_into_df(bfr_selectionProfiles)\n",
    "                bfr_selectionDf = bfr_selectionDf.drop_duplicates('profile_id')\n",
    "                plt.plot(bfr_selectionDf['lon'],bfr_selectionDf['lat'],'+r',transform=ccrs.Geodetic())                \n",
    "                bfr2 = bfr_selectionDf.loc[bfr_selectionDf['position_qc'] == 8]\n",
    "                if len(bfr2) > 0:\n",
    "                    plt.plot(bfr2['lon'],bfr2['lat'],'or',transform=ccrs.Geodetic())\n",
    "                    if str_flag:\n",
    "                        print('>>>> Profile ID for profiles under ice (i.e. platformNumber_profileNumber) <<<<')\n",
    "                        str_flag = False\n",
    "                    print(bfr2['profile_id'])\n",
    "    plt.title('SOSE sea-ice fraction and Argo profile locations (+: QC =1, o: QC = 8)',fontsize=20)              \n",
    "    colorbar = plt.colorbar()"
   ]
  },
  {
   "cell_type": "markdown",
   "metadata": {},
   "source": [
    "**Q12. According to the map, do you see a good general agreement between SOSE sea-ice coverage and Argo floats that are trapped under ice?**"
   ]
  },
  {
   "cell_type": "markdown",
   "metadata": {},
   "source": [
    "insert Q12 answer here."
   ]
  },
  {
   "cell_type": "markdown",
   "metadata": {},
   "source": [
    "**Q13. Is there a region in general where there is disagreement between the model and Argo? (i.e. model indicates sea-ice coverage but Argo has QC = 1 (good data), or model indicates no sea-ice and Argo has QC=8 (position estimated))**"
   ]
  },
  {
   "cell_type": "markdown",
   "metadata": {},
   "source": [
    "insert Q13 answer here."
   ]
  },
  {
   "cell_type": "markdown",
   "metadata": {},
   "source": [
    "**Q14. If SOSE leverages Argo float observations for sea-ice estimates, why do you think there is not 100% agreement between both?**"
   ]
  },
  {
   "cell_type": "markdown",
   "metadata": {},
   "source": [
    "insert Q14 answer here."
   ]
  },
  {
   "cell_type": "markdown",
   "metadata": {
    "id": "0fqhjttTF7xN"
   },
   "source": [
    "### Select a float of interest from the list above.\n",
    "---"
   ]
  },
  {
   "cell_type": "code",
   "execution_count": null,
   "metadata": {
    "id": "iVFBHQ33GVKc"
   },
   "outputs": [],
   "source": [
    "platform_number = '7900379'"
   ]
  },
  {
   "cell_type": "markdown",
   "metadata": {
    "id": "UvPyKDztGWUP"
   },
   "source": [
    "### Extract profiles from selected float and interpolate the profile onto custom pressure levels. Print a table with profile date, location, observed data (after interpolation) and QC flag.\n",
    "---"
   ]
  },
  {
   "cell_type": "code",
   "execution_count": null,
   "metadata": {
    "id": "6Obyw_e5GiOm"
   },
   "outputs": [],
   "source": [
    "\n",
    "platformProfiles = get_platform_profiles(platform_number) #'3900737')#('5904684')\n",
    "# platformDf = parse_into_df(platformProfiles)\n",
    "# print('number of measurements {}'.format(platformDf.shape[0]))\n",
    "plevIntp = np.arange(5,505,5)\n",
    "platformDf_plev = parse_into_df_plev(platformProfiles, plevIntp)\n",
    "platformDf_plev.head()\n",
    "temp2d = np.concatenate(platformDf_plev['temp'].to_numpy()).ravel().reshape(len(platformDf_plev['temp']),len(plevIntp)).T\n",
    "psal2d = np.concatenate(platformDf_plev['psal'].to_numpy()).ravel().reshape(len(platformDf_plev['temp']),len(plevIntp)).T"
   ]
  },
  {
   "cell_type": "markdown",
   "metadata": {
    "id": "RfUYl_qhHGJo"
   },
   "source": [
    "### Plot float position colorcoded by the QC flag at each position.\n",
    "---\n",
    "QC flag legend:\n",
    "    - 0: no quality control performed\n",
    "    - 1: good data\n",
    "    - 2: probably good data\n",
    "    - 3: probably bad data\n",
    "    - 4: bad data\n",
    "    - 5: value changed\n",
    "    - 6: n/a\n",
    "    - 7: n/a\n",
    "    - 8: position estimated\n",
    "    - 9: missing value\n",
    "    - '': Fill value"
   ]
  },
  {
   "cell_type": "code",
   "execution_count": null,
   "metadata": {
    "id": "X3i98w8yHny1"
   },
   "outputs": [],
   "source": [
    "fig, (ax) = plt.subplots(1,1, figsize=(15,10))\n",
    "plt.scatter(platformDf_plev['lon'],platformDf_plev['lat'],c=platformDf_plev['position_qc'],s=80)\n",
    "plt.colorbar()\n",
    "# change font\n",
    "for tick in ax.xaxis.get_majorticklabels():  # example for xaxis\n",
    "    tick.set_fontsize(24) \n",
    "for tick in ax.yaxis.get_majorticklabels():  # example for xaxis\n",
    "    tick.set_fontsize(24)\n",
    "ax.set_ylabel('Degree latitude',size=24,labelpad=0)\n",
    "ax.set_xlabel('Degree longitude',size=24,labelpad=0)\n",
    "plt.title('Float #'+platform_number,size=24)\n",
    "plt.grid()\n",
    "plt.show()"
   ]
  },
  {
   "cell_type": "markdown",
   "metadata": {},
   "source": [
    "**Q14. Why do some positions follow a straight line? Note this happens when QC = 8.**"
   ]
  },
  {
   "cell_type": "raw",
   "metadata": {},
   "source": [
    "insert Q14 answer here."
   ]
  },
  {
   "cell_type": "markdown",
   "metadata": {
    "id": "OIy4Jw4eHw2o"
   },
   "source": [
    "### Save the fraction of sea-ice (from SOSE) at each profile position.\n",
    "---"
   ]
  },
  {
   "cell_type": "code",
   "execution_count": 3,
   "metadata": {
    "id": "yMllWSSeH7Uy"
   },
   "outputs": [
    {
     "ename": "NameError",
     "evalue": "name 'platformDf_plev' is not defined",
     "output_type": "error",
     "traceback": [
      "\u001b[0;31m---------------------------------------------------------------------------\u001b[0m",
      "\u001b[0;31mNameError\u001b[0m                                 Traceback (most recent call last)",
      "\u001b[0;32m<ipython-input-3-149dfde016f8>\u001b[0m in \u001b[0;36m<module>\u001b[0;34m\u001b[0m\n\u001b[1;32m      4\u001b[0m \u001b[0;31m# <class 'str'>\u001b[0m\u001b[0;34m\u001b[0m\u001b[0;34m\u001b[0m\u001b[0;34m\u001b[0m\u001b[0m\n\u001b[1;32m      5\u001b[0m \u001b[0mseaice_val\u001b[0m \u001b[0;34m=\u001b[0m \u001b[0;34m[\u001b[0m\u001b[0;34m]\u001b[0m\u001b[0;34m\u001b[0m\u001b[0;34m\u001b[0m\u001b[0m\n\u001b[0;32m----> 6\u001b[0;31m \u001b[0;32mfor\u001b[0m \u001b[0;34m(\u001b[0m\u001b[0milon\u001b[0m\u001b[0;34m,\u001b[0m\u001b[0milat\u001b[0m\u001b[0;34m,\u001b[0m\u001b[0midate\u001b[0m\u001b[0;34m)\u001b[0m \u001b[0;32min\u001b[0m \u001b[0mzip\u001b[0m\u001b[0;34m(\u001b[0m\u001b[0mplatformDf_plev\u001b[0m\u001b[0;34m[\u001b[0m\u001b[0;34m'lon'\u001b[0m\u001b[0;34m]\u001b[0m\u001b[0;34m,\u001b[0m\u001b[0mplatformDf_plev\u001b[0m\u001b[0;34m[\u001b[0m\u001b[0;34m'lat'\u001b[0m\u001b[0;34m]\u001b[0m\u001b[0;34m,\u001b[0m\u001b[0mplatformDf_plev\u001b[0m\u001b[0;34m[\u001b[0m\u001b[0;34m'date'\u001b[0m\u001b[0;34m]\u001b[0m\u001b[0;34m)\u001b[0m\u001b[0;34m:\u001b[0m\u001b[0;34m\u001b[0m\u001b[0;34m\u001b[0m\u001b[0m\n\u001b[0m\u001b[1;32m      7\u001b[0m     \u001b[0;32mtry\u001b[0m\u001b[0;34m:\u001b[0m\u001b[0;34m\u001b[0m\u001b[0;34m\u001b[0m\u001b[0m\n\u001b[1;32m      8\u001b[0m         \u001b[0mbfr\u001b[0m  \u001b[0;34m=\u001b[0m \u001b[0mget_SOSE_sea_ice\u001b[0m\u001b[0;34m(\u001b[0m\u001b[0mxreg\u001b[0m\u001b[0;34m=\u001b[0m\u001b[0;34m[\u001b[0m\u001b[0milon\u001b[0m\u001b[0;34m-\u001b[0m\u001b[0mdx\u001b[0m\u001b[0;34m,\u001b[0m\u001b[0milon\u001b[0m\u001b[0;34m+\u001b[0m\u001b[0mdx\u001b[0m\u001b[0;34m]\u001b[0m\u001b[0;34m,\u001b[0m\u001b[0myreg\u001b[0m\u001b[0;34m=\u001b[0m\u001b[0;34m[\u001b[0m\u001b[0milat\u001b[0m\u001b[0;34m-\u001b[0m\u001b[0mdy\u001b[0m\u001b[0;34m,\u001b[0m\u001b[0milat\u001b[0m\u001b[0;34m+\u001b[0m\u001b[0mdy\u001b[0m\u001b[0;34m]\u001b[0m\u001b[0;34m,\u001b[0m\u001b[0mdate\u001b[0m\u001b[0;34m=\u001b[0m\u001b[0midate\u001b[0m\u001b[0;34m[\u001b[0m\u001b[0;36m0\u001b[0m\u001b[0;34m:\u001b[0m\u001b[0;36m10\u001b[0m\u001b[0;34m]\u001b[0m\u001b[0;34m,\u001b[0m\u001b[0mprintUrl\u001b[0m\u001b[0;34m=\u001b[0m\u001b[0;32mFalse\u001b[0m\u001b[0;34m)\u001b[0m\u001b[0;34m\u001b[0m\u001b[0;34m\u001b[0m\u001b[0m\n",
      "\u001b[0;31mNameError\u001b[0m: name 'platformDf_plev' is not defined"
     ]
    }
   ],
   "source": [
    "dx = 1/6 # based on SOSE resolution\n",
    "dy = 1/6 # based on SOSE resolution\n",
    "# 2013-06-01\n",
    "# <class 'str'>\n",
    "seaice_val = []\n",
    "for (ilon,ilat,idate) in zip(platformDf_plev['lon'],platformDf_plev['lat'],platformDf_plev['date']):\n",
    "    try:\n",
    "        bfr  = get_SOSE_sea_ice(xreg=[ilon-dx,ilon+dx],yreg=[ilat-dy,ilat+dy],date=idate[0:10],printUrl=False)\n",
    "        bfr_df_SeaIce       = parse_into_df_SeaIce(bfr)\n",
    "        #         print(ilon,ilat)\n",
    "        #         print(bfr_df_SeaIce)\n",
    "        seaice_val.append(interpolate.griddata((bfr_df_SeaIce['lon'],bfr_df_SeaIce['lat']),bfr_df_SeaIce['value'],(ilon,ilat)))\n",
    "        #break\n",
    "        #df = pd.concat([df, bfrDf], sort=False)\n",
    "        #find point closest to target (will not try and interpolate)\n",
    "    except:\n",
    "        seaice_val.append(np.array(0))\n",
    "        pass"
   ]
  },
  {
   "cell_type": "markdown",
   "metadata": {
    "id": "E8RgN9ubIRBF"
   },
   "source": [
    "### Generate a multi-panel figure showing: a) time series of the float's QC flag value and fraction of sea-ice from SOSE, b) ocean temperature profiles in time as recorded by the float and, c) ocean salinity profiles in time as recorded by the float.\n",
    "---"
   ]
  },
  {
   "cell_type": "code",
   "execution_count": null,
   "metadata": {
    "id": "FXKNzO6eOCYe"
   },
   "outputs": [],
   "source": [
    "tdelta = 15 #maximum days permitted between profiles to avoid interpolation of profiles too far apart in time\n",
    "\n",
    "temp2d_new = np.empty((len(plevIntp),1))\n",
    "psal2d_new = np.empty((len(plevIntp),1))\n",
    "temp2d_new[:,0] = temp2d[:,0]\n",
    "psal2d_new[:,0] = psal2d[:,0]\n",
    "\n",
    "time_new = pd.Series(pd.to_datetime(platformDf_plev['date'][0]))\n",
    "for i in np.arange(1,len(platformDf_plev['date'])):\n",
    "        nnans_days = (pd.to_datetime(platformDf_plev['date'][i])-pd.to_datetime(platformDf_plev['date'][i-1])).days\n",
    "        # in the following we add 1 profile of nan in between profiles that are too far apart in time \n",
    "        # (if more profiles of nan are needed, then you need to edit np.empty and the number of iterations in j-loop)\n",
    "        if nnans_days>tdelta:\n",
    "\n",
    "            temp2d_new = np.append(temp2d_new,np.nan*np.empty((len(plevIntp),1)),axis=1)\n",
    "            psal2d_new = np.append(psal2d_new,np.nan*np.empty((len(plevIntp),1)),axis=1)\n",
    "            \n",
    "            bfr_date = pd.to_datetime(platformDf_plev['date'][i-1])\n",
    "            # this loop is now only looping once as we only need to add one profile of nans \n",
    "            for j in np.arange(1,2,1):\n",
    "                bfr_date += timedelta(days=1)\n",
    "                time_new = time_new.append(pd.Series(bfr_date))\n",
    "\n",
    "        temp2d_new = np.append(temp2d_new,temp2d[:,np.newaxis,i],axis=1)\n",
    "        psal2d_new = np.append(psal2d_new,psal2d[:,np.newaxis,i],axis=1)\n",
    "        time_new = time_new.append(pd.Series(pd.to_datetime(platformDf_plev['date'][i])))\n",
    "        \n",
    "plt.figure(figsize=(30, 20))\n",
    "for i in [1,2,3]:\n",
    "    if i==1:\n",
    "        ax = plt.subplot(311)\n",
    "        color = 'tab:red'\n",
    "        plt.plot(pd.to_datetime(platformDf_plev['date']),platformDf_plev['position_qc'],'sr',markersize=14)\n",
    "        ax.set_ylabel('Position QC flag',size=24,labelpad=0)\n",
    "        ax.yaxis.label.set_color('red')\n",
    "        ax.tick_params(axis='y', colors='red')\n",
    "        ax2 = ax.twinx()\n",
    "        color = 'tab:blue'\n",
    "        ax2.plot(pd.to_datetime(platformDf_plev['date']),np.stack( seaice_val ),'ob',markersize=12)\n",
    "        ax2.set_ylabel('SOSE sea-ice fraction',size=24,labelpad=0)\n",
    "        ax2.yaxis.label.set_color('blue')\n",
    "        ax2.tick_params(axis='y', colors='blue')\n",
    "        plt.title('Float #'+platform_number,size=24)\n",
    "        plt.grid()\n",
    "        \n",
    "    if i==2:\n",
    "        ax = plt.subplot(312)\n",
    "        mt = np.ma.masked_where(np.isnan(temp2d_new),temp2d_new)\n",
    "        plt.pcolor(pd.to_datetime(time_new),plevIntp,mt,cmap='plasma')\n",
    "        #plt.pcolormesh(pd.to_datetime(platformDf_plev['date']),plevIntp,temp2d) # pd.Series(np.arange(0,79,1))\n",
    "        plt.title('Temperature, degC',size=24)\n",
    "        \n",
    "    if i==3:\n",
    "        ax = plt.subplot(313)\n",
    "        ms = np.ma.masked_where(np.isnan(psal2d_new),psal2d_new)\n",
    "        plt.pcolor(pd.to_datetime(time_new),plevIntp,ms,cmap='viridis_r')\n",
    "        \n",
    "        # plt.pcolor(pd.to_datetime(platformDf_plev['date']),plevIntp,psal2d) # pd.Series(np.arange(0,79,1))\n",
    "        plt.title('Salinity, psu',size=24)\n",
    "        \n",
    "    if i==2 or i==3:\n",
    "        plt.gca().invert_yaxis()\n",
    "        ax.set_ylabel('Pressure, dbar',size=24,labelpad=0)\n",
    "        cbar = plt.colorbar(orientation=\"horizontal\", pad=0.2)\n",
    "        cbar.ax.tick_params(labelsize=24)\n",
    "        \n",
    "    # change font\n",
    "    for tick in ax.xaxis.get_majorticklabels():  # example for xaxis\n",
    "        tick.set_fontsize(24) \n",
    "    for tick in ax.yaxis.get_majorticklabels():  # example for xaxis\n",
    "        tick.set_fontsize(24)\n",
    "    for tick in ax2.yaxis.get_majorticklabels():  # example for xaxis\n",
    "        tick.set_fontsize(24)\n",
    "    plt.xlim([min(pd.to_datetime(platformDf_plev['date'])),max(pd.to_datetime(platformDf_plev['date']))])\n",
    "plt.show()"
   ]
  },
  {
   "cell_type": "markdown",
   "metadata": {},
   "source": [
    "**Q15. How does the ocean temperature and salinity change after sea-ice formation? What is(are) the physical mechanism(s) leading to these changes?**"
   ]
  },
  {
   "cell_type": "markdown",
   "metadata": {},
   "source": [
    "insert Q15 answer here."
   ]
  },
  {
   "cell_type": "markdown",
   "metadata": {},
   "source": [
    "**Q16. Describe changes to the mixed layer as sea-ice forms and melts.**"
   ]
  },
  {
   "cell_type": "markdown",
   "metadata": {},
   "source": [
    "insert Q16 answer here."
   ]
  },
  {
   "cell_type": "markdown",
   "metadata": {},
   "source": [
    "**Q17. Following the equation on Q8, select one date with sea-ice and one without sea-ice and estimate ocean heat content change.**"
   ]
  },
  {
   "cell_type": "markdown",
   "metadata": {},
   "source": [
    "insert Q17 answer here."
   ]
  },
  {
   "cell_type": "markdown",
   "metadata": {},
   "source": [
    "**Q18. Are the results consistent across different dates and floats?**"
   ]
  },
  {
   "cell_type": "markdown",
   "metadata": {},
   "source": [
    "insert Q18 answer here."
   ]
  },
  {
   "cell_type": "markdown",
   "metadata": {
    "id": "oYfkz-32Psiy"
   },
   "source": [
    "## 5.3 Activity Results\n",
    "---\n",
    "Present your results. You should leverage the information and references provided through the notebook (Sections 1.5 and 5). Make direct reference to the figures you generated throughout the activity. Use your answers to the different questions throughout the activity to guide your results narrative."
   ]
  },
  {
   "cell_type": "markdown",
   "metadata": {
    "id": "4yUVfcDZRXxo"
   },
   "source": [
    "insert results text here"
   ]
  },
  {
   "cell_type": "markdown",
   "metadata": {
    "id": "ZtHW8R7CRCuw"
   },
   "source": [
    "# 6. References\n",
    "List relevant references.\n",
    "\n",
    "1. Argo (2000). Argo float data and metadata from Global Data Assembly Centre (Argo GDAC). SEANOE. https://doi.org/10.17882/42182\n",
    "2. A. Verdy and M. Mazloff, 2017: A data assimilating model for estimating Southern Ocean biogeochemistry. J. Geophys. Res. Oceans., 122, [doi:10.1002/2016JC012650.](http://sose.ucsd.edu/PAPERS/Verdy_et_al-2017-JGR.pdf)\n",
    "3. Frew, R. C., Feltham, D. L., Holland, P. R., & Petty, A. A. (2019). Sea Ice–Ocean Feedbacks in the Antarctic Shelf Seas, Journal of Physical Oceanography, 49(9), 2423-2446. [doi:10.1175/JPO-D-18-0229.1](https://doi.org/10.1175/JPO-D-18-0229.1)\n",
    "3. [Joint Typhoon Warning Center (JTWC).(n.d.).](https://www.metoc.navy.mil/jtwc/jtwc.html?best-tracks) \n",
    "4. M. Mazloff, P. Heimbach, and C. Wunsch, 2010: An Eddy-Permitting Southern Ocean State Estimate. J. Phys. Oceanogr., 40, 880-899. [doi:10.1175/2009JPO4236.1](http://sose.ucsd.edu/PAPERS/Mazloff_et_al-2010-JPO.pdf).\n",
    "5. [NHC Data Archive. (n.d.).](https://www.nhc.noaa.gov/data/)\n",
    "6. Priestley, M. D. K., Ackerley, D., Catto, J. L., Hodges, K. I., McDonald, R. E., & Lee, R. W. (2020). An Overview of the Extratropical Storm Tracks in CMIP6 Historical Simulations, Journal of Climate, 33(15), 6315-6343. [doi:10.1175/JCLI-D-19-0928.1.](https://journals.ametsoc.org/view/journals/clim/33/15/JCLI-D-19-0928.1.xml?tab_body=pdf)\n",
    "7. Tucker, T., Giglio, D., and Scanderbeg, M. (2020). Argovis API exposed in a Python Jupyter notebook: an easy access to Argo profiles, weather events, and gridded products. Earth and Space Science Open Archive, [doi:10.1002/essoar.10504304.1.](https://doi.org/10.1002/essoar.10504304.1)\n",
    "8. Tucker, T., Giglio, D., Scanderbeg, M., & Shen, S. S. P. (2020). Argovis: A Web Application for Fast Delivery, Visualization, and Analysis of Argo Data, Journal of Atmospheric and Oceanic Technology, 37(3), 401-416. [doi:10.1175/JTECH-D-19-0041.1.](https://journals.ametsoc.org/view/journals/atot/37/3/JTECH-D-19-0041.1.xml)\n"
   ]
  },
  {
   "cell_type": "code",
   "execution_count": null,
   "metadata": {
    "id": "gxJi0tYlRCuw"
   },
   "outputs": [],
   "source": []
  }
 ],
 "metadata": {
  "colab": {
   "name": "GS_01_Argovis_TropicalCyclones_SeaIce.ipynb",
   "provenance": []
  },
  "kernelspec": {
   "display_name": "Python [conda env:py_test]",
   "language": "python",
   "name": "conda-env-py_test-py"
  },
  "language_info": {
   "codemirror_mode": {
    "name": "ipython",
    "version": 3
   },
   "file_extension": ".py",
   "mimetype": "text/x-python",
   "name": "python",
   "nbconvert_exporter": "python",
   "pygments_lexer": "ipython3",
   "version": "3.8.8"
  },
  "toc": {
   "base_numbering": 1,
   "nav_menu": {},
   "number_sections": true,
   "sideBar": true,
   "skip_h1_title": false,
   "title_cell": "Table of Contents",
   "title_sidebar": "Contents",
   "toc_cell": true,
   "toc_position": {
    "height": "calc(100% - 180px)",
    "left": "10px",
    "top": "150px",
    "width": "248.171875px"
   },
   "toc_section_display": true,
   "toc_window_display": true
  }
 },
 "nbformat": 4,
 "nbformat_minor": 1
}
